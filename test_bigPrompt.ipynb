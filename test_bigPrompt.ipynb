{
 "cells": [
  {
   "cell_type": "code",
   "execution_count": 107,
   "metadata": {},
   "outputs": [],
   "source": [
    "from langchain.chat_models import ChatOpenAI\n",
    "from langchain.prompts import PromptTemplate, load_prompt\n",
    "from langchain.schema import StrOutputParser\n",
    "\n",
    "from langchain.prompts.pipeline import PipelinePromptTemplate"
   ]
  },
  {
   "cell_type": "markdown",
   "metadata": {},
   "source": [
    "### Model"
   ]
  },
  {
   "cell_type": "code",
   "execution_count": 108,
   "metadata": {},
   "outputs": [],
   "source": [
    "model = ChatOpenAI(\n",
    "    model_name='gpt-3.5-turbo',\n",
    "    api_key=open('api.txt', 'r').read()\n",
    ")"
   ]
  },
  {
   "cell_type": "markdown",
   "metadata": {},
   "source": [
    "### Prompts"
   ]
  },
  {
   "cell_type": "code",
   "execution_count": 109,
   "metadata": {},
   "outputs": [],
   "source": [
    "full_temp = \"\"\"{init}\n",
    "\n",
    "{task}\n",
    "\n",
    "{best_practice}\"\"\"\n",
    "\n",
    "full_prompt = PromptTemplate.from_template(full_temp)"
   ]
  },
  {
   "cell_type": "code",
   "execution_count": 110,
   "metadata": {},
   "outputs": [],
   "source": [
    "# init_prompt = load_prompt('prompts/init_prompt.json').format(role=\"Systems Engineer\")\n",
    "# task_prompt = load_prompt('prompts/task_prompt.json').format(ticket=\"title: The color from the button is not displayed correctly when i use a different browser; description: When i press the save button the color blue is displayed instead of green. This is only when i use Chrome as browser. When i use Firefox it works fine.\")\n",
    "# sumLen_prompt = load_prompt('prompts/sumLen_prompt.json').format(min=6,max=11)\n",
    "init_prompt = load_prompt('prompts/init_prompt.json')\n",
    "task_prompt = load_prompt('prompts/task_prompt.json')\n",
    "sumLen_prompt = load_prompt('prompts/sumLen_prompt.json')"
   ]
  },
  {
   "cell_type": "code",
   "execution_count": 111,
   "metadata": {},
   "outputs": [],
   "source": [
    "input_prompts = [\n",
    "    (\"init\", init_prompt),\n",
    "    (\"task\", task_prompt),\n",
    "    (\"best_practice\", sumLen_prompt)\n",
    "]\n",
    "\n",
    "pipeline_prompt = PipelinePromptTemplate(final_prompt=full_prompt, pipeline_prompts=input_prompts)"
   ]
  },
  {
   "cell_type": "code",
   "execution_count": 112,
   "metadata": {},
   "outputs": [
    {
     "name": "stdout",
     "output_type": "stream",
     "text": [
      "Act as a Systems Engineer working with issue trackers like Jira or Azure DevOps. There are multiple text-based best practices you have to take into account.\n",
      "\n",
      "Check this ticket (title: The color from the button is not displayed correctly when i use a different browser; description: When i press the save button the color blue is displayed instead of green. This is only when i use Chrome as browser. When i use Firefox it works fine.) to see if these best practices are violated, and if so, provide a recommendation that satisfies the best practices.\n",
      "\n",
      "The length of the title of a ticket should be between 6 and 11 words. Return only the new title and nothing else: \n"
     ]
    }
   ],
   "source": [
    "final_prompt = pipeline_prompt.format(\n",
    "    role=\"Systems Engineer\",\n",
    "    ticket=\"title: The color from the button is not displayed correctly when i use a different browser; description: When i press the save button the color blue is displayed instead of green. This is only when i use Chrome as browser. When i use Firefox it works fine.\",\n",
    "    min=6,\n",
    "    max=11\n",
    ")\n",
    "print(final_prompt)"
   ]
  },
  {
   "cell_type": "markdown",
   "metadata": {},
   "source": [
    "### Parser"
   ]
  },
  {
   "cell_type": "code",
   "execution_count": 113,
   "metadata": {},
   "outputs": [],
   "source": [
    "model_parser = model | StrOutputParser()"
   ]
  },
  {
   "cell_type": "markdown",
   "metadata": {},
   "source": [
    "### Chain"
   ]
  },
  {
   "cell_type": "markdown",
   "metadata": {},
   "source": [
    "### Run"
   ]
  },
  {
   "cell_type": "code",
   "execution_count": 115,
   "metadata": {},
   "outputs": [
    {
     "data": {
      "text/plain": [
       "'Button color not displayed correctly in Chrome browser'"
      ]
     },
     "execution_count": 115,
     "metadata": {},
     "output_type": "execute_result"
    }
   ],
   "source": [
    "result = model.invoke(final_prompt)\n",
    "result.content"
   ]
  }
 ],
 "metadata": {
  "kernelspec": {
   "display_name": "venv_master",
   "language": "python",
   "name": "python3"
  },
  "language_info": {
   "codemirror_mode": {
    "name": "ipython",
    "version": 3
   },
   "file_extension": ".py",
   "mimetype": "text/x-python",
   "name": "python",
   "nbconvert_exporter": "python",
   "pygments_lexer": "ipython3",
   "version": "3.11.4"
  }
 },
 "nbformat": 4,
 "nbformat_minor": 2
}
