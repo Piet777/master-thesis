{
 "cells": [
  {
   "cell_type": "markdown",
   "metadata": {},
   "source": [
    "# With ChatModel"
   ]
  },
  {
   "cell_type": "code",
   "execution_count": 57,
   "metadata": {},
   "outputs": [],
   "source": [
    "from langchain.chat_models import ChatOpenAI\n",
    "from langchain.prompts import (\n",
    "    ChatPromptTemplate,\n",
    "    MessagesPlaceholder,\n",
    "    SystemMessagePromptTemplate,\n",
    "    HumanMessagePromptTemplate,\n",
    "    load_prompt\n",
    ")\n",
    "from langchain.chains import LLMChain\n",
    "from langchain.memory import ConversationBufferMemory"
   ]
  },
  {
   "cell_type": "code",
   "execution_count": 58,
   "metadata": {},
   "outputs": [],
   "source": [
    "model = ChatOpenAI(\n",
    "    model_name='gpt-3.5-turbo',\n",
    "    api_key=open('api.txt', 'r').read(),\n",
    "    temperature=0.1,\n",
    ")"
   ]
  },
  {
   "cell_type": "code",
   "execution_count": 59,
   "metadata": {},
   "outputs": [],
   "source": [
    "prompt = ChatPromptTemplate(\n",
    "    messages = [\n",
    "        SystemMessagePromptTemplate.from_template(\n",
    "            load_prompt('prompts/init_prompt.json').format(role=\"Software Engineer\")\n",
    "        ),\n",
    "        SystemMessagePromptTemplate.from_template(\n",
    "            load_prompt('prompts/task_prompt.json').format()\n",
    "        ),\n",
    "        SystemMessagePromptTemplate.from_template(\n",
    "            load_prompt('prompts/sumLen_prompt.json').format(min=6, max=11)\n",
    "        ),\n",
    "        MessagesPlaceholder(variable_name=\"chat_history\"),\n",
    "        HumanMessagePromptTemplate.from_template(\"\"\"\n",
    "                                                 Check the below ticket for best practices.\n",
    "                                                 Ticket: {ticket}\n",
    "                                                 \"\"\")\n",
    "    ]\n",
    ")"
   ]
  },
  {
   "cell_type": "code",
   "execution_count": 60,
   "metadata": {},
   "outputs": [],
   "source": [
    "memory = ConversationBufferMemory(memory_key=\"chat_history\", return_messages=True)\n",
    "\n",
    "conversation = LLMChain(\n",
    "    llm=model,\n",
    "    prompt=prompt,\n",
    "    verbose=True,\n",
    "    memory=memory\n",
    ")"
   ]
  },
  {
   "cell_type": "code",
   "execution_count": 61,
   "metadata": {},
   "outputs": [
    {
     "name": "stdout",
     "output_type": "stream",
     "text": [
      "\n",
      "\n",
      "\u001b[1m> Entering new LLMChain chain...\u001b[0m\n",
      "Prompt after formatting:\n",
      "\u001b[32;1m\u001b[1;3mSystem:  ### Instruction ###\n",
      "Act as a professional Software Engineer working with issue trackers like Jira or Azure DevOps.\n",
      "There are multiple text-based best practices you have to take into account.\n",
      "\n",
      "System:  ### Instruction ###\n",
      "Check a given ticket to see if these best practices are violated, and if so, provide a recommendation that satisfies the best practices.\n",
      "\n",
      "System:  ### Instruction ###\n",
      "The length of the title of a ticket should be between 6 and 11 words.\n",
      "If the word count is in this range return nothing.\n",
      "Else, return only a new title in this range.\n",
      "\n",
      "Human: \n",
      "                                                 Check the below ticket for best practices.\n",
      "                                                 Ticket: title: The color from the button is not displayed correctly when i use a different browser; description: When i press the save button the color blue is displayed instead of green. This is only when i use Chrome as browser. When i use Firefox it works fine.\n",
      "                                                 \u001b[0m\n",
      "\n",
      "\u001b[1m> Finished chain.\u001b[0m\n"
     ]
    },
    {
     "data": {
      "text/plain": [
       "{'ticket': 'title: The color from the button is not displayed correctly when i use a different browser; description: When i press the save button the color blue is displayed instead of green. This is only when i use Chrome as browser. When i use Firefox it works fine.',\n",
       " 'chat_history': [HumanMessage(content='title: The color from the button is not displayed correctly when i use a different browser; description: When i press the save button the color blue is displayed instead of green. This is only when i use Chrome as browser. When i use Firefox it works fine.'),\n",
       "  AIMessage(content='The title of the ticket violates the best practice of having a title length between 6 and 11 words. The current title has 16 words. \\n\\nRecommendation: \\nUpdate the title to a more concise and descriptive one, such as \"Button color not displayed correctly in Chrome browser\". This new title is within the recommended word count range and clearly describes the issue.')],\n",
       " 'text': 'The title of the ticket violates the best practice of having a title length between 6 and 11 words. The current title has 16 words. \\n\\nRecommendation: \\nUpdate the title to a more concise and descriptive one, such as \"Button color not displayed correctly in Chrome browser\". This new title is within the recommended word count range and clearly describes the issue.'}"
      ]
     },
     "execution_count": 61,
     "metadata": {},
     "output_type": "execute_result"
    }
   ],
   "source": [
    "conversation({\"ticket\": \"title: The color from the button is not displayed correctly when i use a different browser; description: When i press the save button the color blue is displayed instead of green. This is only when i use Chrome as browser. When i use Firefox it works fine.\"})"
   ]
  }
 ],
 "metadata": {
  "kernelspec": {
   "display_name": "venv_master",
   "language": "python",
   "name": "python3"
  },
  "language_info": {
   "codemirror_mode": {
    "name": "ipython",
    "version": 3
   },
   "file_extension": ".py",
   "mimetype": "text/x-python",
   "name": "python",
   "nbconvert_exporter": "python",
   "pygments_lexer": "ipython3",
   "version": "3.11.4"
  }
 },
 "nbformat": 4,
 "nbformat_minor": 2
}
