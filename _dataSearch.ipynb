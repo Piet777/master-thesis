{
 "cells": [
  {
   "cell_type": "code",
   "execution_count": null,
   "metadata": {},
   "outputs": [],
   "source": [
    "import pandas as pd\n",
    "pd.set_option('display.max_colwidth', None)\n",
    "\n",
    "from pprint import pprint\n",
    "\n",
    "import database\n",
    "import helper"
   ]
  },
  {
   "cell_type": "markdown",
   "metadata": {},
   "source": [
    "# Data Search"
   ]
  },
  {
   "cell_type": "code",
   "execution_count": null,
   "metadata": {},
   "outputs": [],
   "source": [
    "client = database.connect()\n",
    "db = client.JiraRepos\n",
    "\n",
    "print(db.list_collection_names())\n",
    "collection = db['Jira']"
   ]
  },
  {
   "cell_type": "code",
   "execution_count": null,
   "metadata": {},
   "outputs": [],
   "source": [
    "# results = collection.find_one({\n",
    "#     \"$and\":[\n",
    "#         {\"fields.issuetype.name\": \"Story\"},\n",
    "#         {\"$expr\": {\"$gt\": [{\"$strLenCP\": \"$fields.summary\"}, 70] }} \n",
    "#         ]\n",
    "#     })"
   ]
  },
  {
   "cell_type": "markdown",
   "metadata": {},
   "source": [
    "die Issue types haben übergreift andere namen\n",
    "Bevor man also nahc den Issue types sucht muss man eine IN Funktion von MongoDB verwenden und dieser dann alle möglichen werte für z.B. Story eine Joras geben\n",
    "Diese Informationen finden sich in jira_issuetype_thematic_analysis.json"
   ]
  },
  {
   "cell_type": "code",
   "execution_count": null,
   "metadata": {},
   "outputs": [],
   "source": [
    "greaterSummary = []\n",
    "\n",
    "results = collection.aggregate([\n",
    "    {\n",
    "        \"$match\": {\n",
    "            \"fields.summary\": {\n",
    "                \"$exists\": True, \n",
    "                \"$type\": \"string\"\n",
    "            },\n",
    "            \"$expr\": {\n",
    "                \"$and\": [\n",
    "                    {\"$lt\": [{\"$strLenCP\": \"$fields.summary\"}, 70]},\n",
    "                    {\"$gt\": [{\"$strLenCP\": \"$fields.summary\"}, 39]}\n",
    "                ]\n",
    "            }\n",
    "        }\n",
    "    },\n",
    "    {\n",
    "        \"$sample\": {\n",
    "            \"size\": 3\n",
    "        }\n",
    "    }\n",
    "])\n",
    "\n",
    "for document in results:\n",
    "    greaterSummary.append(document)\n",
    "    print(str(len(document['fields']['summary'])) + \": \" + document['fields']['summary'])"
   ]
  },
  {
   "cell_type": "code",
   "execution_count": null,
   "metadata": {},
   "outputs": [],
   "source": [
    "len('Correct HipChat Integration to JIRA for Pre- Version 7 documentation')"
   ]
  },
  {
   "cell_type": "code",
   "execution_count": null,
   "metadata": {},
   "outputs": [],
   "source": [
    "greaterSummary[0]['id']"
   ]
  },
  {
   "cell_type": "markdown",
   "metadata": {},
   "source": [
    "(Apache, 13066997) -> Status is Open, coulb be intersting "
   ]
  },
  {
   "cell_type": "markdown",
   "metadata": {},
   "source": [
    "# Ticket Creation"
   ]
  },
  {
   "cell_type": "code",
   "execution_count": null,
   "metadata": {},
   "outputs": [],
   "source": [
    "df = pd.read_csv('./data/output.csv')"
   ]
  },
  {
   "cell_type": "code",
   "execution_count": null,
   "metadata": {},
   "outputs": [],
   "source": [
    "df['jira'].unique()"
   ]
  },
  {
   "cell_type": "code",
   "execution_count": null,
   "metadata": {},
   "outputs": [],
   "source": [
    "# 284325 from Jira could be a good example for the Description completness Prompt!!\n",
    "\n",
    "sample_id = 78993\n",
    "jira = \"Jira\"\n",
    "evolutionStep = 0\n",
    "\n",
    "sample = df[(df[\"issue_id\"] == sample_id) & (df[\"jira\"] == jira)]"
   ]
  },
  {
   "cell_type": "code",
   "execution_count": null,
   "metadata": {},
   "outputs": [],
   "source": [
    "ticket = helper.createTicket(sample, evolutionStep)\n",
    "ticket"
   ]
  },
  {
   "cell_type": "code",
   "execution_count": null,
   "metadata": {},
   "outputs": [],
   "source": [
    "helper.saveTicket('summary', ticket, evolutionStep, jira, sample_id)"
   ]
  },
  {
   "cell_type": "code",
   "execution_count": null,
   "metadata": {},
   "outputs": [],
   "source": [
    "dataset = pd.read_csv('data/summary/summaryDataset.csv')\n",
    "dataset"
   ]
  }
 ],
 "metadata": {
  "kernelspec": {
   "display_name": "venv_master",
   "language": "python",
   "name": "python3"
  },
  "language_info": {
   "codemirror_mode": {
    "name": "ipython",
    "version": 3
   },
   "file_extension": ".py",
   "mimetype": "text/x-python",
   "name": "python",
   "nbconvert_exporter": "python",
   "pygments_lexer": "ipython3",
   "version": "3.11.4"
  }
 },
 "nbformat": 4,
 "nbformat_minor": 2
}
