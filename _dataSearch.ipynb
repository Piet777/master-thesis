{
 "cells": [
  {
   "cell_type": "code",
   "execution_count": 1,
   "metadata": {},
   "outputs": [],
   "source": [
    "import pandas as pd\n",
    "pd.set_option('display.max_colwidth', None)\n",
    "\n",
    "import json\n",
    "import os\n",
    "from datetime import datetime\n",
    "from pprint import pprint\n",
    "\n",
    "import database\n",
    "import helper\n",
    "import utils"
   ]
  },
  {
   "cell_type": "code",
   "execution_count": 2,
   "metadata": {},
   "outputs": [],
   "source": [
    "LOG = utils.CustomLogger(\"CustomLogger\", log_level= \"info\", display_loglevel= False, display_datetime= False)\n",
    "PICKLE_LIB = utils.PickleLib(data_path=\"./data\", logger= LOG)"
   ]
  },
  {
   "cell_type": "markdown",
   "metadata": {},
   "source": [
    "# Data Search"
   ]
  },
  {
   "cell_type": "code",
   "execution_count": 468,
   "metadata": {},
   "outputs": [
    {
     "name": "stdout",
     "output_type": "stream",
     "text": [
      "['Spring', 'Mojang', 'SecondLife', 'JiraEcosystem', 'Mindville', 'Sonatype', 'Sakai', 'Jira', 'Apache', 'MariaDB', 'Hyperledger', 'Qt', 'IntelDAOS', 'JFrog', 'MongoDB', 'RedHat']\n"
     ]
    }
   ],
   "source": [
    "client = database.connect()\n",
    "db = client.JiraRepos\n",
    "\n",
    "print(db.list_collection_names())\n",
    "collection = db['MongoDB']"
   ]
  },
  {
   "cell_type": "markdown",
   "metadata": {},
   "source": [
    "#### Summary"
   ]
  },
  {
   "cell_type": "code",
   "execution_count": 469,
   "metadata": {},
   "outputs": [],
   "source": [
    "def getInRange():\n",
    "    results = collection.aggregate([\n",
    "        {\n",
    "            \"$match\": {\n",
    "                \"fields.summary\": {\n",
    "                    \"$exists\": True, \n",
    "                    \"$type\": \"string\"\n",
    "                },\n",
    "                \"$expr\": {\n",
    "                    \"$and\": [\n",
    "                        {\"$lt\": [{\"$strLenCP\": \"$fields.summary\"}, 70]},\n",
    "                        {\"$gt\": [{\"$strLenCP\": \"$fields.summary\"}, 39]}\n",
    "                    ]\n",
    "                }\n",
    "            }\n",
    "        },\n",
    "        {\n",
    "            \"$sample\": {\n",
    "                \"size\": 5\n",
    "            }\n",
    "        }\n",
    "    ])\n",
    "    return results\n",
    "\n",
    "def getShorter():\n",
    "    results = collection.aggregate([\n",
    "        {\n",
    "            \"$match\": {\n",
    "                \"fields.summary\": {\n",
    "                    \"$exists\": True, \n",
    "                    \"$type\": \"string\"\n",
    "                },\n",
    "                \"$expr\": {\n",
    "                    \"$and\": [\n",
    "                        {\"$lt\": [{\"$strLenCP\": \"$fields.summary\"}, 39]}\n",
    "                    ]\n",
    "                }\n",
    "            }\n",
    "        },\n",
    "        {\n",
    "            \"$sample\": {\n",
    "                \"size\": 5\n",
    "            }\n",
    "        }\n",
    "    ])\n",
    "    return results\n",
    "\n",
    "def getLonger():\n",
    "    results = collection.aggregate([\n",
    "        {\n",
    "            \"$match\": {\n",
    "                \"fields.summary\": {\n",
    "                    \"$exists\": True, \n",
    "                    \"$type\": \"string\"\n",
    "                },\n",
    "                \"$expr\": {\n",
    "                    \"$and\": [\n",
    "                        {\"$gt\": [{\"$strLenCP\": \"$fields.summary\"}, 70]}\n",
    "                    ]\n",
    "                }\n",
    "            }\n",
    "        },\n",
    "        {\n",
    "            \"$sample\": {\n",
    "                \"size\": 5\n",
    "            }\n",
    "        }\n",
    "    ])\n",
    "    return results"
   ]
  },
  {
   "cell_type": "code",
   "execution_count": 517,
   "metadata": {},
   "outputs": [
    {
     "name": "stdout",
     "output_type": "stream",
     "text": [
      "Id: 653054 Length: 47: Docs for SERVER-38168: Vendor Zstandard library\n",
      "Id: 387444 Length: 40: Implement Index Management Specification\n",
      "Id: 1468306 Length: 51: Rate limit new connection creations (maxConnecting)\n",
      "Id: 1956117 Length: 60: Fix Health Checking feature flag backport incompatibilities \n",
      "Id: 1417364 Length: 41: Implement `ChangeStreamGetMore` operation\n"
     ]
    }
   ],
   "source": [
    "summary = []\n",
    "\n",
    "results = getInRange()\n",
    "# results = getShorter()\n",
    "# results = getLonger()\n",
    "\n",
    "for document in results:\n",
    "    summary.append(document)\n",
    "    print(\"Id: \" + str(document['id']) + \" Length: \" + str(len(document['fields']['summary'])) + \": \" + document['fields']['summary'])"
   ]
  },
  {
   "cell_type": "markdown",
   "metadata": {},
   "source": [
    "#### Arbitrary Structure"
   ]
  },
  {
   "cell_type": "code",
   "execution_count": null,
   "metadata": {},
   "outputs": [],
   "source": [
    "def findKeysByCode(data, target_code):\n",
    "    matching_keys = []\n",
    "    for key, value in data.items():\n",
    "        if 'code' in value and value['code'] == target_code:\n",
    "            matching_keys.append(key)\n",
    "    return matching_keys"
   ]
  },
  {
   "cell_type": "code",
   "execution_count": null,
   "metadata": {},
   "outputs": [],
   "source": [
    "with open('issueTypeMapping.json') as f:\n",
    "    mappedIssueTypes = json.load(f)"
   ]
  },
  {
   "cell_type": "code",
   "execution_count": null,
   "metadata": {},
   "outputs": [],
   "source": [
    "mappedTypes = findKeysByCode(mappedIssueTypes['RedHat'], 'Story')\n",
    "mappedTypes"
   ]
  },
  {
   "cell_type": "code",
   "execution_count": null,
   "metadata": {},
   "outputs": [],
   "source": [
    "tickets = []\n",
    "results = collection.aggregate([\n",
    "    {\n",
    "        \"$match\": {\n",
    "            \"fields.description\": {\n",
    "                \"$exists\": True, \n",
    "                \"$type\": \"string\",\n",
    "                \"$regex\": \"As a\"\n",
    "            },\n",
    "            \"fields.issuetype.name\": {\n",
    "                \"$in\": mappedTypes\n",
    "            }\n",
    "        }\n",
    "    },\n",
    "    {\n",
    "        \"$sample\": {\n",
    "            \"size\": 10\n",
    "        }\n",
    "    }\n",
    "])\n",
    "\n",
    "for document in results:\n",
    "    tickets.append(document)\n",
    "    print(\"Id: \" + str(document['id']) + \" / Description: \" + document['fields']['description'])"
   ]
  },
  {
   "cell_type": "markdown",
   "metadata": {},
   "source": [
    "User Story structure: \n",
    "Redhat: 13279134, 13254138, 13282377, 13405745, 14248927(has only the story)"
   ]
  },
  {
   "cell_type": "markdown",
   "metadata": {},
   "source": [
    "#### Update See use_case_3.ipynb"
   ]
  },
  {
   "cell_type": "markdown",
   "metadata": {},
   "source": [
    "# Ticket Creation"
   ]
  },
  {
   "cell_type": "markdown",
   "metadata": {},
   "source": [
    "(Apache, 13066997) -> Status is Open, coulb be intersting \n",
    "(Jira, 284325) -> could be a good example for the Description completness Prompt!!\n",
    "(Qt, 187366) -> intersting for Bug Report STructre!"
   ]
  },
  {
   "cell_type": "code",
   "execution_count": 471,
   "metadata": {},
   "outputs": [],
   "source": [
    "### Globals ###\n",
    "LOG.reset()\n",
    "JIRA = \"MongoDB\"\n",
    "FOLDERNAME = \"summary\""
   ]
  },
  {
   "cell_type": "code",
   "execution_count": 472,
   "metadata": {},
   "outputs": [
    {
     "name": "stdout",
     "output_type": "stream",
     "text": [
      "[Start] 🥒 Loading data from Pickle: \"./jiraEvolutions/load_evolution_dataframe(jiras=[_MongoDB_]).pgzip\"\n"
     ]
    },
    {
     "name": "stderr",
     "output_type": "stream",
     "text": [
      "\t Data: 100%|#####################################################| 423M/423M [00:04<00:00, 101MB/s]"
     ]
    },
    {
     "name": "stdout",
     "output_type": "stream",
     "text": [
      "[ End ] Duration: 00:00:04.9762\n"
     ]
    },
    {
     "name": "stderr",
     "output_type": "stream",
     "text": [
      "\n"
     ]
    }
   ],
   "source": [
    "evo_df = PICKLE_LIB.pickle_load(\"./jiraEvolutions/load_evolution_dataframe(jiras=[_\"+JIRA+\"_])\", 'gzip')"
   ]
  },
  {
   "cell_type": "code",
   "execution_count": 520,
   "metadata": {},
   "outputs": [],
   "source": [
    "sample_id = \"1417364\"\n",
    "sample = evo_df[evo_df[\"issue_id\"] == sample_id]\n",
    "#sample"
   ]
  },
  {
   "cell_type": "code",
   "execution_count": 521,
   "metadata": {},
   "outputs": [
    {
     "name": "stderr",
     "output_type": "stream",
     "text": [
      "/Users/piet/Development/source/master-thesis/helper.py:57: SettingWithCopyWarning: \n",
      "A value is trying to be set on a copy of a slice from a DataFrame.\n",
      "Try using .loc[row_indexer,col_indexer] = value instead\n",
      "\n",
      "See the caveats in the documentation: https://pandas.pydata.org/pandas-docs/stable/user_guide/indexing.html#returning-a-view-versus-a-copy\n",
      "  row.loc[:, 'Comments'] = [comment_history]\n"
     ]
    },
    {
     "data": {
      "text/html": [
       "<div>\n",
       "<style scoped>\n",
       "    .dataframe tbody tr th:only-of-type {\n",
       "        vertical-align: middle;\n",
       "    }\n",
       "\n",
       "    .dataframe tbody tr th {\n",
       "        vertical-align: top;\n",
       "    }\n",
       "\n",
       "    .dataframe thead th {\n",
       "        text-align: right;\n",
       "    }\n",
       "</style>\n",
       "<table border=\"1\" class=\"dataframe\">\n",
       "  <thead>\n",
       "    <tr style=\"text-align: right;\">\n",
       "      <th></th>\n",
       "      <th>Jira</th>\n",
       "      <th>IssueId</th>\n",
       "      <th>EvoId</th>\n",
       "      <th>Summary</th>\n",
       "      <th>Description</th>\n",
       "      <th>VersionsAffected</th>\n",
       "      <th>IssueType</th>\n",
       "      <th>Project</th>\n",
       "      <th>Components</th>\n",
       "      <th>CreatedDate</th>\n",
       "      <th>...</th>\n",
       "      <th>Priority</th>\n",
       "      <th>Creator</th>\n",
       "      <th>Reporter</th>\n",
       "      <th>Resolution</th>\n",
       "      <th>IssueLinks</th>\n",
       "      <th>Labels</th>\n",
       "      <th>VersionsFixed</th>\n",
       "      <th>Assignee</th>\n",
       "      <th>TimeSpent</th>\n",
       "      <th>Comments</th>\n",
       "    </tr>\n",
       "  </thead>\n",
       "  <tbody>\n",
       "    <tr>\n",
       "      <th>0</th>\n",
       "      <td>MongoDB</td>\n",
       "      <td>1417364</td>\n",
       "      <td>0</td>\n",
       "      <td>Implement {{ChangeStreamGetMore}} operation</td>\n",
       "      <td>As the next part of implementing change streams, we need to define a {{ChangeStreamGetMore}} struct that implements {{Operation}}. This operation should wrap the {{GetMore}} operation, calling {{Aggregate::build}} and {{Aggregate::handle_response}} in its own respective {{build}} and {{handle_response}} methods.\\r\\n\\r\\nAdditionally, the {{poll_next}} methods on the {{ChangeStream}}'s {{Stream}} implementation should be updated to create and execute a {{ChangeStreamGetMore}} operation, following the pattern used in the {{Cursor}}'s {{poll_next}} implementation.</td>\n",
       "      <td>None</td>\n",
       "      <td>New Feature</td>\n",
       "      <td>Rust Driver</td>\n",
       "      <td>None</td>\n",
       "      <td>2020-07-22T19:15:15.000+0000</td>\n",
       "      <td>...</td>\n",
       "      <td>Major - P3</td>\n",
       "      <td>Samuel Rossi</td>\n",
       "      <td>Samuel Rossi</td>\n",
       "      <td>None</td>\n",
       "      <td>None</td>\n",
       "      <td>None</td>\n",
       "      <td>None</td>\n",
       "      <td>None</td>\n",
       "      <td>None</td>\n",
       "      <td>Empty DataFrame\n",
       "Columns: [Author, Created, Comment]\n",
       "Index: []</td>\n",
       "    </tr>\n",
       "  </tbody>\n",
       "</table>\n",
       "<p>1 rows × 22 columns</p>\n",
       "</div>"
      ],
      "text/plain": [
       "      Jira  IssueId  EvoId                                      Summary  \\\n",
       "0  MongoDB  1417364      0  Implement {{ChangeStreamGetMore}} operation   \n",
       "\n",
       "                                                                                                                                                                                                                                                                                                                                                                                                                                                                                                                                                                              Description  \\\n",
       "0  As the next part of implementing change streams, we need to define a {{ChangeStreamGetMore}} struct that implements {{Operation}}. This operation should wrap the {{GetMore}} operation, calling {{Aggregate::build}} and {{Aggregate::handle_response}} in its own respective {{build}} and {{handle_response}} methods.\\r\\n\\r\\nAdditionally, the {{poll_next}} methods on the {{ChangeStream}}'s {{Stream}} implementation should be updated to create and execute a {{ChangeStreamGetMore}} operation, following the pattern used in the {{Cursor}}'s {{poll_next}} implementation.   \n",
       "\n",
       "  VersionsAffected    IssueType      Project Components  \\\n",
       "0             None  New Feature  Rust Driver       None   \n",
       "\n",
       "                    CreatedDate  ...    Priority       Creator      Reporter  \\\n",
       "0  2020-07-22T19:15:15.000+0000  ...  Major - P3  Samuel Rossi  Samuel Rossi   \n",
       "\n",
       "  Resolution IssueLinks Labels VersionsFixed Assignee TimeSpent  \\\n",
       "0       None       None   None          None     None      None   \n",
       "\n",
       "                                                        Comments  \n",
       "0  Empty DataFrame\n",
       "Columns: [Author, Created, Comment]\n",
       "Index: []  \n",
       "\n",
       "[1 rows x 22 columns]"
      ]
     },
     "execution_count": 521,
     "metadata": {},
     "output_type": "execute_result"
    }
   ],
   "source": [
    "evolutionStep = 0\n",
    "ticket = helper.createTicket(sample, evolutionStep)\n",
    "ticket"
   ]
  },
  {
   "cell_type": "markdown",
   "metadata": {},
   "source": [
    "# Ticket PreProcessing"
   ]
  },
  {
   "cell_type": "code",
   "execution_count": 522,
   "metadata": {},
   "outputs": [],
   "source": [
    "def preprocessTickets(ticket):\n",
    "    \n",
    "    ### Convert CreatedDate and ResolvedDate to datetime\n",
    "    c_date = ticket['CreatedDate'].values[0]\n",
    "    c_dt_obj = datetime.strptime(c_date, '%Y-%m-%dT%H:%M:%S.%f%z')\n",
    "    ticket['CreatedDate'] = c_dt_obj.strftime('%Y-%m-%d %H:%M:%S')\n",
    "    r_date = ticket['ResolvedDate'].values[0]\n",
    "    r_dt_obj = datetime.strptime(r_date, '%Y-%m-%dT%H:%M:%S.%f%z')\n",
    "    ticket['ResolvedDate'] = r_dt_obj.strftime('%Y-%m-%d %H:%M:%S')\n",
    "\n",
    "    ### Convert IssueId to Int\n",
    "    id = ticket['IssueId'].values[0]\n",
    "    ticket['IssueId'] = int(id)\n",
    "\n",
    "preprocessTickets(ticket)"
   ]
  },
  {
   "cell_type": "code",
   "execution_count": 523,
   "metadata": {},
   "outputs": [
    {
     "name": "stdout",
     "output_type": "stream",
     "text": [
      "The JSON was successfully saved!\n",
      "The annotation was created successfully!\n",
      "The ticket was inserted into the dataset successfully!\n"
     ]
    }
   ],
   "source": [
    "helper.saveTicket(FOLDERNAME, ticket, evolutionStep, JIRA, sample_id)"
   ]
  },
  {
   "cell_type": "markdown",
   "metadata": {},
   "source": [
    "# Annotate Ticket"
   ]
  },
  {
   "cell_type": "code",
   "execution_count": null,
   "metadata": {},
   "outputs": [],
   "source": [
    "def annotateTicket(ticket, annotation, reason):\n",
    "    try:\n",
    "        ticket['ViolationActual'] = annotation\n",
    "        ticket['ViolationReason'] = reason\n",
    "        print(\"Annotation successful.\")\n",
    "    except:\n",
    "        print(\"Annotation failed.\")\n",
    "\n",
    "annotateTicket(ticket, \"TRUE\", \"\"\"1. Resolution has to be set from 'None' to 'Low Priority'.\n",
    "                           2. Status has to be set from 'Open' to 'Resolved'.\"\"\")"
   ]
  },
  {
   "cell_type": "code",
   "execution_count": null,
   "metadata": {},
   "outputs": [],
   "source": [
    "if os.path.isfile(\"data/\" + FOLDERNAME + \"/\" + FOLDERNAME + \"Dataset.csv\"):\n",
    "    dataset = pd.read_csv(\"./data/\" + FOLDERNAME + \"/\" + FOLDERNAME + \"Dataset.csv\")\n",
    "    print(\"The dataset already exists.\")\n",
    "else:\n",
    "    dataset = pd.DataFrame(columns=['Jira', 'IssueId', 'EvoId', 'Summary', 'Description', 'VersionsAffected', 'IssueType', 'Project', 'Components', 'CreatedDate', 'ResolvedDate', 'Status', 'Priority', 'Creator', 'Reporter', 'Resolution', 'IssueLinks', 'Labels','VersionsFixed', 'Assignee', 'TimeSpent', 'Comments', 'ViolationActual', 'ViolationReason'])\n",
    "    print(\"The dataset was created successfully.\")\n",
    "\n",
    "dataset = pd.concat([dataset, ticket], ignore_index=True)\n",
    "\n",
    "dataset.to_csv(\"data/\" + FOLDERNAME + \"/\" + FOLDERNAME + \"Dataset.csv\", index=False)\n",
    "print(\"The ticket was inserted into the dataset successfully!\")\n"
   ]
  },
  {
   "cell_type": "code",
   "execution_count": null,
   "metadata": {},
   "outputs": [],
   "source": [
    "dataset = pd.read_csv('data/' + FOLDERNAME + '/' + FOLDERNAME + 'Dataset.csv')\n",
    "dataset"
   ]
  }
 ],
 "metadata": {
  "kernelspec": {
   "display_name": "venv_master",
   "language": "python",
   "name": "python3"
  },
  "language_info": {
   "codemirror_mode": {
    "name": "ipython",
    "version": 3
   },
   "file_extension": ".py",
   "mimetype": "text/x-python",
   "name": "python",
   "nbconvert_exporter": "python",
   "pygments_lexer": "ipython3",
   "version": "3.11.4"
  }
 },
 "nbformat": 4,
 "nbformat_minor": 2
}
