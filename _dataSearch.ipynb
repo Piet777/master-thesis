{
 "cells": [
  {
   "cell_type": "code",
   "execution_count": null,
   "metadata": {},
   "outputs": [],
   "source": [
    "import pandas as pd\n",
    "pd.set_option('display.max_colwidth', None)\n",
    "\n",
    "from pprint import pprint\n",
    "\n",
    "import database\n",
    "import helper"
   ]
  },
  {
   "cell_type": "markdown",
   "metadata": {},
   "source": [
    "# Data Search"
   ]
  },
  {
   "cell_type": "code",
   "execution_count": null,
   "metadata": {},
   "outputs": [],
   "source": [
    "client = database.connect()\n",
    "db = client.JiraRepos\n",
    "\n",
    "print(db.list_collection_names())\n",
    "collection = db['Apache']"
   ]
  },
  {
   "cell_type": "code",
   "execution_count": null,
   "metadata": {},
   "outputs": [],
   "source": [
    "data = collection.find_one()\n",
    "summary = data['fields']['summary']\n",
    "\n",
    "print(len(summary))\n",
    "print(summary)"
   ]
  },
  {
   "cell_type": "code",
   "execution_count": null,
   "metadata": {},
   "outputs": [],
   "source": [
    "data['fields']['issuetype']['name']"
   ]
  },
  {
   "cell_type": "code",
   "execution_count": null,
   "metadata": {},
   "outputs": [],
   "source": [
    "# db.users.aggregate(\n",
    "#    [ { $sample: { size: 3 } } ]\n",
    "# )"
   ]
  },
  {
   "cell_type": "markdown",
   "metadata": {},
   "source": [
    "die Issue types haben übergreift andere namen\n",
    "Bevor man also nahc den Issue types sucht muss man eine IN Funktion von MongoDB verwenden und dieser dann alle möglichen werte für z.B. Story eine Joras geben\n",
    "Diese Informationen finden sich in jira_issuetype_thematic_analysis.json"
   ]
  },
  {
   "cell_type": "code",
   "execution_count": null,
   "metadata": {},
   "outputs": [],
   "source": [
    "results = collection.find_one({\n",
    "    \"$and\":[\n",
    "        {\"fields.issuetype.name\": \"Story\"},\n",
    "        {\"$expr\": {\"$gt\": [{\"$strLenCP\": \"$fields.summary\"}, 70] }} \n",
    "        ]\n",
    "    })"
   ]
  },
  {
   "cell_type": "code",
   "execution_count": null,
   "metadata": {},
   "outputs": [],
   "source": [
    "pprint(results)"
   ]
  },
  {
   "cell_type": "code",
   "execution_count": null,
   "metadata": {},
   "outputs": [],
   "source": []
  },
  {
   "cell_type": "markdown",
   "metadata": {},
   "source": [
    "# Ticket Creation"
   ]
  },
  {
   "cell_type": "code",
   "execution_count": null,
   "metadata": {},
   "outputs": [],
   "source": [
    "df = pd.read_csv('./data/output.csv')"
   ]
  },
  {
   "cell_type": "code",
   "execution_count": null,
   "metadata": {},
   "outputs": [],
   "source": [
    "## Get the Summary entries for a specific issue type\n",
    "# new_df = helper.addIssueTypeToField(df, 'Summary')\n",
    "# new_UserStory_df = new_df[new_df['issue_type'] == 'User Story']\n",
    "# new_UserStory_df.head(10)"
   ]
  },
  {
   "cell_type": "code",
   "execution_count": null,
   "metadata": {},
   "outputs": [],
   "source": [
    "# 284325 from Jira could be a good example for the Description completness Prompt!!\n",
    "sample_id = 284325\n",
    "jira = \"Jira\"\n",
    "evolutionStep = 1"
   ]
  },
  {
   "cell_type": "code",
   "execution_count": null,
   "metadata": {},
   "outputs": [],
   "source": [
    "sample = df[(df[\"issue_id\"] == sample_id) & (df[\"jira\"] == jira)]\n",
    "\n",
    "ticket = helper.createTicket(sample, evolutionStep)\n",
    "ticket"
   ]
  },
  {
   "cell_type": "code",
   "execution_count": null,
   "metadata": {},
   "outputs": [],
   "source": [
    "helper.saveTicket('summary', ticket, evolutionStep, jira, sample_id)"
   ]
  }
 ],
 "metadata": {
  "kernelspec": {
   "display_name": "venv_master",
   "language": "python",
   "name": "python3"
  },
  "language_info": {
   "codemirror_mode": {
    "name": "ipython",
    "version": 3
   },
   "file_extension": ".py",
   "mimetype": "text/x-python",
   "name": "python",
   "nbconvert_exporter": "python",
   "pygments_lexer": "ipython3",
   "version": "3.11.4"
  }
 },
 "nbformat": 4,
 "nbformat_minor": 2
}
