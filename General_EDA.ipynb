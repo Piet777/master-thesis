{
 "cells": [
  {
   "cell_type": "markdown",
   "metadata": {},
   "source": [
    "# Exploratory Dataset Analysis"
   ]
  },
  {
   "cell_type": "code",
   "execution_count": 64,
   "metadata": {},
   "outputs": [],
   "source": [
    "import pandas as pd\n",
    "import numpy as np\n",
    "import nltk\n",
    "\n",
    "import utils"
   ]
  },
  {
   "cell_type": "markdown",
   "metadata": {},
   "source": [
    "### functions:"
   ]
  },
  {
   "cell_type": "code",
   "execution_count": 65,
   "metadata": {},
   "outputs": [],
   "source": [
    "def addIssueTypeToField(df, field):\n",
    "    # reduces the dataframe to only the field you are looking for with the addition of a new column with the issue type\n",
    "    # needs the full dataframe and the field as string\n",
    "    \n",
    "    df_reduced = df.loc[(df[\"field\"] == field) | (df[\"field\"] == \"IssueType\")]\n",
    "\n",
    "    issue_type_df = df_reduced[df_reduced[\"field\"] == \"IssueType\"]\n",
    "\n",
    "    issue_type_dict = dict(zip(issue_type_df['issue_id'], issue_type_df['data_to']))\n",
    "\n",
    "    df_reduced['issue_type'] = df_reduced['issue_id'].map(issue_type_dict)\n",
    "\n",
    "    output = df_reduced[df_reduced[\"field\"] == field]\n",
    "\n",
    "    return output"
   ]
  },
  {
   "cell_type": "code",
   "execution_count": 66,
   "metadata": {},
   "outputs": [],
   "source": [
    "def create_ticket(df):\n",
    "       headers = ['IssueId', 'EvoId', 'Summary', 'Description', 'VersionsAffected', 'IssueType',\n",
    "       'Project', 'Components', 'CreatedDate', 'ResolvedDate', 'Status',\n",
    "       'Priority', 'Creator', 'Reporter', 'Comments', 'Resolution',\n",
    "       'IssueLinks', 'Labels', 'Environment', 'VersionsFixed', 'Assignee',\n",
    "       'TimeEstimateOriginal', 'TimeEstimateRemaining', 'Rank', 'Parent',\n",
    "       'Sprint', 'TimeSpent', 'Flagged']\n",
    "\n",
    "       ticket_df = pd.DataFrame(columns=headers)\n",
    "       \n",
    "       data_to_map = {}\n",
    "       for index, row in df.iterrows():\n",
    "              data_to_map['IssueId'] = row['issue_id']\n",
    "              data_to_map['EvoId'] = row['history_order']\n",
    "              data_to_map['HistoryAuthor'] = row['history_author']\n",
    "              data_to_map['Updated'] = row['history_created_date']\n",
    "              field = row['field']\n",
    "              data_to_map[field] = row['data_to']\n",
    "\n",
    "              sample_df = pd.DataFrame(data_to_map, index=[0])\n",
    "              ticket_df = pd.concat([ticket_df, sample_df], axis=0)\n",
    "\n",
    "       return ticket_df"
   ]
  },
  {
   "cell_type": "code",
   "execution_count": 67,
   "metadata": {},
   "outputs": [],
   "source": [
    "def createCommentsHistory(data):\n",
    "    #data is the content of the Comments field of a ticket\n",
    "    comments = {}\n",
    "    output = pd.DataFrame(columns=['Author', 'Created', 'Comment'])\n",
    "    \n",
    "    ind = 0\n",
    "    for index, row in data.iterrows():\n",
    "        comments['Author'] = row['history_author']\n",
    "        comments['Created'] = row['history_created_date']\n",
    "        comments['Comment'] = row['data_to']\n",
    "        comments_df = pd.DataFrame(comments, index=[ind])\n",
    "        output = pd.concat([output, comments_df])\n",
    "        ind += 1\n",
    "\n",
    "    return output"
   ]
  },
  {
   "cell_type": "code",
   "execution_count": 68,
   "metadata": {},
   "outputs": [],
   "source": [
    "def createLastRowWithCommentSection(last_row, sample_df):\n",
    "    row = last_row.filter(['Summary','Description','VersionsAffected','IssueType','Project','Components','CreatedDate','ResolvedDate','Status','Priority','Creator','Reporter','Resolution','IssueLinks','Labels','VersionsFixed','Assignee','TimeSpent'], axis=1).iloc[[-1]]\n",
    "    comment_history = createCommentsHistory(sample_df[sample_df['field'] == 'Comments'])\n",
    "    row.at[:, 'Comments'] = [comment_history]\n",
    "\n",
    "    return row"
   ]
  },
  {
   "cell_type": "markdown",
   "metadata": {},
   "source": [
    "--------"
   ]
  },
  {
   "cell_type": "code",
   "execution_count": 48,
   "metadata": {},
   "outputs": [],
   "source": [
    "df = pd.read_csv('./data/csv/output.csv')"
   ]
  },
  {
   "cell_type": "markdown",
   "metadata": {},
   "source": [
    "Not relevant fields: \n",
    "Assignee, CreatedDaten, Creator, Environment, IssueLinks, Parent, Rank, Reporter, ResolvedDate, Sprint, TimeEstimateOriginal, TimeEstimateRemaining, TimeSpent, VersionsAffected, VersionsFixed\n",
    "\n",
    "Fields with context information: \n",
    "Description, IssueType, Status, Summary, Comments, Priority, Project, Resolution, (Components, Flagged, Labels)\n",
    "\n",
    "Relevant fields for completion: \n",
    "IssueType, Status, Summary, (Description, Labels)"
   ]
  },
  {
   "cell_type": "markdown",
   "metadata": {},
   "source": [
    "### search for description structure"
   ]
  },
  {
   "cell_type": "code",
   "execution_count": 69,
   "metadata": {},
   "outputs": [
    {
     "name": "stderr",
     "output_type": "stream",
     "text": [
      "/var/folders/5p/613flb0s6c92xjsqzfyxwwk80000gn/T/ipykernel_45752/2236485525.py:11: SettingWithCopyWarning: \n",
      "A value is trying to be set on a copy of a slice from a DataFrame.\n",
      "Try using .loc[row_indexer,col_indexer] = value instead\n",
      "\n",
      "See the caveats in the documentation: https://pandas.pydata.org/pandas-docs/stable/user_guide/indexing.html#returning-a-view-versus-a-copy\n",
      "  df_reduced['issue_type'] = df_reduced['issue_id'].map(issue_type_dict)\n"
     ]
    }
   ],
   "source": [
    "new_df = addIssueTypeToField(df, 'Description')"
   ]
  },
  {
   "cell_type": "code",
   "execution_count": 70,
   "metadata": {},
   "outputs": [],
   "source": [
    "new_bug_df = new_df[new_df['issue_type'] == 'Bug']"
   ]
  },
  {
   "cell_type": "code",
   "execution_count": 71,
   "metadata": {},
   "outputs": [],
   "source": [
    "subset =new_bug_df[new_bug_df[\"data_to\"].str.len() > 450]"
   ]
  },
  {
   "cell_type": "code",
   "execution_count": 72,
   "metadata": {},
   "outputs": [
    {
     "data": {
      "text/html": [
       "<div>\n",
       "<style scoped>\n",
       "    .dataframe tbody tr th:only-of-type {\n",
       "        vertical-align: middle;\n",
       "    }\n",
       "\n",
       "    .dataframe tbody tr th {\n",
       "        vertical-align: top;\n",
       "    }\n",
       "\n",
       "    .dataframe thead th {\n",
       "        text-align: right;\n",
       "    }\n",
       "</style>\n",
       "<table border=\"1\" class=\"dataframe\">\n",
       "  <thead>\n",
       "    <tr style=\"text-align: right;\">\n",
       "      <th></th>\n",
       "      <th>Unnamed: 0</th>\n",
       "      <th>jira</th>\n",
       "      <th>issue_id</th>\n",
       "      <th>history_order</th>\n",
       "      <th>field</th>\n",
       "      <th>field_evo_order</th>\n",
       "      <th>field_evo_first</th>\n",
       "      <th>field_evo_last</th>\n",
       "      <th>data_from</th>\n",
       "      <th>data_to</th>\n",
       "      <th>...</th>\n",
       "      <th>last_reporter</th>\n",
       "      <th>last_assignee</th>\n",
       "      <th>last_commenter</th>\n",
       "      <th>last_evolver</th>\n",
       "      <th>prev_creators</th>\n",
       "      <th>prev_reporters</th>\n",
       "      <th>prev_assignees</th>\n",
       "      <th>prev_commenters</th>\n",
       "      <th>prev_evolvers</th>\n",
       "      <th>issue_type</th>\n",
       "    </tr>\n",
       "  </thead>\n",
       "  <tbody>\n",
       "    <tr>\n",
       "      <th>69</th>\n",
       "      <td>18323858</td>\n",
       "      <td>Jira</td>\n",
       "      <td>1788469</td>\n",
       "      <td>0</td>\n",
       "      <td>Description</td>\n",
       "      <td>0</td>\n",
       "      <td>True</td>\n",
       "      <td>True</td>\n",
       "      <td>NaN</td>\n",
       "      <td>once when I was using Sourcetree v2.1.11, ever...</td>\n",
       "      <td>...</td>\n",
       "      <td>NaN</td>\n",
       "      <td>NaN</td>\n",
       "      <td>NaN</td>\n",
       "      <td>NaN</td>\n",
       "      <td>[]</td>\n",
       "      <td>[]</td>\n",
       "      <td>[]</td>\n",
       "      <td>[]</td>\n",
       "      <td>[]</td>\n",
       "      <td>Bug</td>\n",
       "    </tr>\n",
       "    <tr>\n",
       "      <th>110</th>\n",
       "      <td>18323899</td>\n",
       "      <td>Jira</td>\n",
       "      <td>1751607</td>\n",
       "      <td>0</td>\n",
       "      <td>Description</td>\n",
       "      <td>0</td>\n",
       "      <td>True</td>\n",
       "      <td>True</td>\n",
       "      <td>NaN</td>\n",
       "      <td>I have installed putty and pageant outside of ...</td>\n",
       "      <td>...</td>\n",
       "      <td>NaN</td>\n",
       "      <td>NaN</td>\n",
       "      <td>NaN</td>\n",
       "      <td>NaN</td>\n",
       "      <td>[]</td>\n",
       "      <td>[]</td>\n",
       "      <td>[]</td>\n",
       "      <td>[]</td>\n",
       "      <td>[]</td>\n",
       "      <td>Bug</td>\n",
       "    </tr>\n",
       "    <tr>\n",
       "      <th>129</th>\n",
       "      <td>18323918</td>\n",
       "      <td>Jira</td>\n",
       "      <td>1750632</td>\n",
       "      <td>0</td>\n",
       "      <td>Description</td>\n",
       "      <td>0</td>\n",
       "      <td>True</td>\n",
       "      <td>True</td>\n",
       "      <td>NaN</td>\n",
       "      <td>*{color:#172b4d}Summary:{color}*\\r\\n\\r\\n \\r\\n\\...</td>\n",
       "      <td>...</td>\n",
       "      <td>NaN</td>\n",
       "      <td>NaN</td>\n",
       "      <td>NaN</td>\n",
       "      <td>NaN</td>\n",
       "      <td>[]</td>\n",
       "      <td>[]</td>\n",
       "      <td>[]</td>\n",
       "      <td>[]</td>\n",
       "      <td>[]</td>\n",
       "      <td>Bug</td>\n",
       "    </tr>\n",
       "    <tr>\n",
       "      <th>162</th>\n",
       "      <td>18323951</td>\n",
       "      <td>Jira</td>\n",
       "      <td>1747580</td>\n",
       "      <td>0</td>\n",
       "      <td>Description</td>\n",
       "      <td>0</td>\n",
       "      <td>True</td>\n",
       "      <td>True</td>\n",
       "      <td>NaN</td>\n",
       "      <td>*Issue Summary:*\\r\\n\\r\\nWhen created a new use...</td>\n",
       "      <td>...</td>\n",
       "      <td>NaN</td>\n",
       "      <td>NaN</td>\n",
       "      <td>NaN</td>\n",
       "      <td>NaN</td>\n",
       "      <td>[]</td>\n",
       "      <td>[]</td>\n",
       "      <td>[]</td>\n",
       "      <td>[]</td>\n",
       "      <td>[]</td>\n",
       "      <td>Bug</td>\n",
       "    </tr>\n",
       "    <tr>\n",
       "      <th>179</th>\n",
       "      <td>18323968</td>\n",
       "      <td>Jira</td>\n",
       "      <td>1747292</td>\n",
       "      <td>0</td>\n",
       "      <td>Description</td>\n",
       "      <td>0</td>\n",
       "      <td>True</td>\n",
       "      <td>True</td>\n",
       "      <td>NaN</td>\n",
       "      <td>it is not possible to push if force push flag ...</td>\n",
       "      <td>...</td>\n",
       "      <td>NaN</td>\n",
       "      <td>NaN</td>\n",
       "      <td>NaN</td>\n",
       "      <td>NaN</td>\n",
       "      <td>[]</td>\n",
       "      <td>[]</td>\n",
       "      <td>[]</td>\n",
       "      <td>[]</td>\n",
       "      <td>[]</td>\n",
       "      <td>Bug</td>\n",
       "    </tr>\n",
       "    <tr>\n",
       "      <th>266</th>\n",
       "      <td>18324055</td>\n",
       "      <td>Jira</td>\n",
       "      <td>1740957</td>\n",
       "      <td>0</td>\n",
       "      <td>Description</td>\n",
       "      <td>0</td>\n",
       "      <td>True</td>\n",
       "      <td>True</td>\n",
       "      <td>NaN</td>\n",
       "      <td>Every time I push a new branch for the first t...</td>\n",
       "      <td>...</td>\n",
       "      <td>NaN</td>\n",
       "      <td>NaN</td>\n",
       "      <td>NaN</td>\n",
       "      <td>NaN</td>\n",
       "      <td>[]</td>\n",
       "      <td>[]</td>\n",
       "      <td>[]</td>\n",
       "      <td>[]</td>\n",
       "      <td>[]</td>\n",
       "      <td>Bug</td>\n",
       "    </tr>\n",
       "    <tr>\n",
       "      <th>341</th>\n",
       "      <td>18324130</td>\n",
       "      <td>Jira</td>\n",
       "      <td>1738272</td>\n",
       "      <td>0</td>\n",
       "      <td>Description</td>\n",
       "      <td>0</td>\n",
       "      <td>True</td>\n",
       "      <td>True</td>\n",
       "      <td>NaN</td>\n",
       "      <td>Version: ??? - 3.4.3\\r\\n\\r\\nWindows 10 Pro\\r\\n...</td>\n",
       "      <td>...</td>\n",
       "      <td>NaN</td>\n",
       "      <td>NaN</td>\n",
       "      <td>NaN</td>\n",
       "      <td>NaN</td>\n",
       "      <td>[]</td>\n",
       "      <td>[]</td>\n",
       "      <td>[]</td>\n",
       "      <td>[]</td>\n",
       "      <td>[]</td>\n",
       "      <td>Bug</td>\n",
       "    </tr>\n",
       "    <tr>\n",
       "      <th>359</th>\n",
       "      <td>18324148</td>\n",
       "      <td>Jira</td>\n",
       "      <td>1737590</td>\n",
       "      <td>0</td>\n",
       "      <td>Description</td>\n",
       "      <td>0</td>\n",
       "      <td>True</td>\n",
       "      <td>True</td>\n",
       "      <td>NaN</td>\n",
       "      <td>when i try to merge the master branch into my ...</td>\n",
       "      <td>...</td>\n",
       "      <td>NaN</td>\n",
       "      <td>NaN</td>\n",
       "      <td>NaN</td>\n",
       "      <td>NaN</td>\n",
       "      <td>[]</td>\n",
       "      <td>[]</td>\n",
       "      <td>[]</td>\n",
       "      <td>[]</td>\n",
       "      <td>[]</td>\n",
       "      <td>Bug</td>\n",
       "    </tr>\n",
       "    <tr>\n",
       "      <th>378</th>\n",
       "      <td>18324167</td>\n",
       "      <td>Jira</td>\n",
       "      <td>1737043</td>\n",
       "      <td>0</td>\n",
       "      <td>Description</td>\n",
       "      <td>0</td>\n",
       "      <td>True</td>\n",
       "      <td>True</td>\n",
       "      <td>NaN</td>\n",
       "      <td>I have setup Sourcetree so that it does not st...</td>\n",
       "      <td>...</td>\n",
       "      <td>NaN</td>\n",
       "      <td>NaN</td>\n",
       "      <td>NaN</td>\n",
       "      <td>NaN</td>\n",
       "      <td>[]</td>\n",
       "      <td>[]</td>\n",
       "      <td>[]</td>\n",
       "      <td>[]</td>\n",
       "      <td>[]</td>\n",
       "      <td>Bug</td>\n",
       "    </tr>\n",
       "    <tr>\n",
       "      <th>421</th>\n",
       "      <td>18324210</td>\n",
       "      <td>Jira</td>\n",
       "      <td>1726709</td>\n",
       "      <td>0</td>\n",
       "      <td>Description</td>\n",
       "      <td>0</td>\n",
       "      <td>True</td>\n",
       "      <td>True</td>\n",
       "      <td>NaN</td>\n",
       "      <td>Being prompted to \"Run 'git lfs pull' now?\" de...</td>\n",
       "      <td>...</td>\n",
       "      <td>NaN</td>\n",
       "      <td>NaN</td>\n",
       "      <td>NaN</td>\n",
       "      <td>NaN</td>\n",
       "      <td>[]</td>\n",
       "      <td>[]</td>\n",
       "      <td>[]</td>\n",
       "      <td>[]</td>\n",
       "      <td>[]</td>\n",
       "      <td>Bug</td>\n",
       "    </tr>\n",
       "  </tbody>\n",
       "</table>\n",
       "<p>10 rows × 34 columns</p>\n",
       "</div>"
      ],
      "text/plain": [
       "     Unnamed: 0  jira  issue_id  history_order        field  field_evo_order  \\\n",
       "69     18323858  Jira   1788469              0  Description                0   \n",
       "110    18323899  Jira   1751607              0  Description                0   \n",
       "129    18323918  Jira   1750632              0  Description                0   \n",
       "162    18323951  Jira   1747580              0  Description                0   \n",
       "179    18323968  Jira   1747292              0  Description                0   \n",
       "266    18324055  Jira   1740957              0  Description                0   \n",
       "341    18324130  Jira   1738272              0  Description                0   \n",
       "359    18324148  Jira   1737590              0  Description                0   \n",
       "378    18324167  Jira   1737043              0  Description                0   \n",
       "421    18324210  Jira   1726709              0  Description                0   \n",
       "\n",
       "     field_evo_first  field_evo_last data_from  \\\n",
       "69              True            True       NaN   \n",
       "110             True            True       NaN   \n",
       "129             True            True       NaN   \n",
       "162             True            True       NaN   \n",
       "179             True            True       NaN   \n",
       "266             True            True       NaN   \n",
       "341             True            True       NaN   \n",
       "359             True            True       NaN   \n",
       "378             True            True       NaN   \n",
       "421             True            True       NaN   \n",
       "\n",
       "                                               data_to  ... last_reporter  \\\n",
       "69   once when I was using Sourcetree v2.1.11, ever...  ...           NaN   \n",
       "110  I have installed putty and pageant outside of ...  ...           NaN   \n",
       "129  *{color:#172b4d}Summary:{color}*\\r\\n\\r\\n \\r\\n\\...  ...           NaN   \n",
       "162  *Issue Summary:*\\r\\n\\r\\nWhen created a new use...  ...           NaN   \n",
       "179  it is not possible to push if force push flag ...  ...           NaN   \n",
       "266  Every time I push a new branch for the first t...  ...           NaN   \n",
       "341  Version: ??? - 3.4.3\\r\\n\\r\\nWindows 10 Pro\\r\\n...  ...           NaN   \n",
       "359  when i try to merge the master branch into my ...  ...           NaN   \n",
       "378  I have setup Sourcetree so that it does not st...  ...           NaN   \n",
       "421  Being prompted to \"Run 'git lfs pull' now?\" de...  ...           NaN   \n",
       "\n",
       "    last_assignee last_commenter last_evolver prev_creators prev_reporters  \\\n",
       "69            NaN            NaN          NaN            []             []   \n",
       "110           NaN            NaN          NaN            []             []   \n",
       "129           NaN            NaN          NaN            []             []   \n",
       "162           NaN            NaN          NaN            []             []   \n",
       "179           NaN            NaN          NaN            []             []   \n",
       "266           NaN            NaN          NaN            []             []   \n",
       "341           NaN            NaN          NaN            []             []   \n",
       "359           NaN            NaN          NaN            []             []   \n",
       "378           NaN            NaN          NaN            []             []   \n",
       "421           NaN            NaN          NaN            []             []   \n",
       "\n",
       "    prev_assignees prev_commenters prev_evolvers  issue_type  \n",
       "69              []              []            []         Bug  \n",
       "110             []              []            []         Bug  \n",
       "129             []              []            []         Bug  \n",
       "162             []              []            []         Bug  \n",
       "179             []              []            []         Bug  \n",
       "266             []              []            []         Bug  \n",
       "341             []              []            []         Bug  \n",
       "359             []              []            []         Bug  \n",
       "378             []              []            []         Bug  \n",
       "421             []              []            []         Bug  \n",
       "\n",
       "[10 rows x 34 columns]"
      ]
     },
     "execution_count": 72,
     "metadata": {},
     "output_type": "execute_result"
    }
   ],
   "source": [
    "subset.head(10)"
   ]
  },
  {
   "cell_type": "code",
   "execution_count": 74,
   "metadata": {},
   "outputs": [],
   "source": [
    "bug_id = 1747292\n",
    "desc_struc_sample = df[df[\"issue_id\"] == bug_id]"
   ]
  },
  {
   "cell_type": "markdown",
   "metadata": {},
   "source": [
    "### Normal ticket"
   ]
  },
  {
   "cell_type": "code",
   "execution_count": 75,
   "metadata": {},
   "outputs": [],
   "source": [
    "sample = df[df[\"issue_id\"] == 1803818]"
   ]
  },
  {
   "cell_type": "code",
   "execution_count": 76,
   "metadata": {},
   "outputs": [],
   "source": [
    "sample_cut = sample.filter(['issue_id', 'history_order', 'history_author', 'history_created_date', 'field', 'data_to'], axis=1)\n",
    "desc_struc_sample_cut = desc_struc_sample.filter(['issue_id', 'history_order', 'history_author', 'history_created_date', 'field', 'data_to'], axis=1)"
   ]
  },
  {
   "cell_type": "code",
   "execution_count": 77,
   "metadata": {},
   "outputs": [],
   "source": [
    "sample_ticket = create_ticket(sample)\n",
    "desc_struc_sample_ticket = create_ticket(desc_struc_sample)"
   ]
  },
  {
   "cell_type": "code",
   "execution_count": 78,
   "metadata": {},
   "outputs": [],
   "source": [
    "sample_ticket.to_csv(\"data/csv/unprocessed/sample_ticket.csv\")\n",
    "desc_struc_sample_ticket.to_csv(\"data/csv/unprocessed/desc_struc_sample_ticket.csv\")"
   ]
  },
  {
   "cell_type": "code",
   "execution_count": 79,
   "metadata": {},
   "outputs": [],
   "source": [
    "sample_ticket_with_singel_evoId = sample_ticket.groupby(['EvoId']).last()\n",
    "desc_struc_sample_ticket_with_singel_evoId = desc_struc_sample_ticket.groupby(['EvoId']).last()"
   ]
  },
  {
   "cell_type": "code",
   "execution_count": 80,
   "metadata": {},
   "outputs": [],
   "source": [
    "sample_ticket_with_singel_evoId.to_csv(\"data/csv/ticket/sample_ticket.csv\")\n",
    "desc_struc_sample_ticket_with_singel_evoId.to_csv(\"data/csv/ticket/desc_struc_sample_ticket.csv\")"
   ]
  },
  {
   "cell_type": "markdown",
   "metadata": {},
   "source": [
    "### Create JSON with Comment Section"
   ]
  },
  {
   "cell_type": "code",
   "execution_count": 81,
   "metadata": {},
   "outputs": [],
   "source": [
    "from json import loads, dumps\n",
    "\n",
    "sample = pd.read_csv(\"data/csv/ticket/sample_ticket.csv\")\n",
    "desc_struc_sample = pd.read_csv(\"data/csv/ticket/desc_struc_sample_ticket.csv\")"
   ]
  },
  {
   "cell_type": "code",
   "execution_count": 82,
   "metadata": {},
   "outputs": [],
   "source": [
    "last_row = createLastRowWithCommentSection(sample, sample_cut)\n",
    "desc_struc_last_row = createLastRowWithCommentSection(desc_struc_sample, desc_struc_sample_cut)\n",
    "\n",
    "last_row.to_csv(\"data/csv/last_row/last_row.csv\")\n",
    "last_row.to_json(\"data/json/last_row/last_row.json\", orient=\"records\", lines=True, indent=4)\n",
    "\n",
    "desc_struc_last_row.to_csv(\"data/csv/last_row/desc_struc_last_row.csv\")\n",
    "desc_struc_last_row.to_json(\"data/json/last_row/desc_struc_last_row.json\", orient=\"records\", lines=True, indent=4)"
   ]
  },
  {
   "cell_type": "code",
   "execution_count": 83,
   "metadata": {},
   "outputs": [],
   "source": [
    "# save JSON for long term\n",
    "desc_struc_last_row.to_json(\"data/json/tickets/bugs/id_\"+str(bug_id)+\".json\", orient=\"records\", lines=True, indent=4)"
   ]
  },
  {
   "cell_type": "code",
   "execution_count": 87,
   "metadata": {},
   "outputs": [],
   "source": [
    "str = desc_struc_last_row[\"Description\"].iloc[0]"
   ]
  },
  {
   "cell_type": "code",
   "execution_count": 90,
   "metadata": {},
   "outputs": [
    {
     "data": {
      "text/plain": [
       "3008"
      ]
     },
     "execution_count": 90,
     "metadata": {},
     "output_type": "execute_result"
    }
   ],
   "source": [
    "len(str)"
   ]
  }
 ],
 "metadata": {
  "kernelspec": {
   "display_name": "venv_master",
   "language": "python",
   "name": "python3"
  },
  "language_info": {
   "codemirror_mode": {
    "name": "ipython",
    "version": 3
   },
   "file_extension": ".py",
   "mimetype": "text/x-python",
   "name": "python",
   "nbconvert_exporter": "python",
   "pygments_lexer": "ipython3",
   "version": "3.11.4"
  }
 },
 "nbformat": 4,
 "nbformat_minor": 2
}
