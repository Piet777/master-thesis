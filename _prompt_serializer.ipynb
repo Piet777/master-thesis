{
 "cells": [
  {
   "cell_type": "code",
   "execution_count": 4,
   "metadata": {},
   "outputs": [],
   "source": [
    "from langchain.prompts import PromptTemplate\n",
    "from langchain.prompts import FewShotPromptTemplate"
   ]
  },
  {
   "cell_type": "markdown",
   "metadata": {},
   "source": [
    "# Initial Prompt"
   ]
  },
  {
   "cell_type": "code",
   "execution_count": 7,
   "metadata": {},
   "outputs": [],
   "source": [
    "init_temp = \"\"\"### Instruction ###\n",
    "Act as a professional {role} working with issue trackers like Jira or Azure DevOps.\n",
    "Working with these issue trackers, you must consider multiple text-based best practices to increase understandability and reduce time.\n",
    "We want to revise a ticket for compliance with these best practices and offer recommendations if needed.\n",
    "The best practice to check is: \n",
    "{best_practice}\n",
    "\n",
    "### Context ###\n",
    "A ticket consists of multiple fields. You are provided with the fields and a short description for each field.\n",
    "Assignee: The person responsible to resolve the issue.\n",
    "Comments: Community discussion on the issue, including author, timestamp, and content.\n",
    "Components: Project components to which the issue belongs.\n",
    "CreatedDate: The time and date the issue was created.\n",
    "Creator: The person who created the issue.\n",
    "Description: A detailed description of the issue.\n",
    "IssueLinks: A list of links to related issues.\n",
    "IssueType: The issue's purpose within the organization.\n",
    "Labels: Labels to which this issue relates.\n",
    "Priority: The issue importance in relation to other issues.\n",
    "Project: The parent project to which the issue belongs.\n",
    "Reporter: The person who found/reported the issue.\n",
    "Resolution: A record of the issue's resolution, once resolved or closed.\n",
    "ResolvedDate: The time and date the issue was resolved.\n",
    "Status: The stage the issue is currently at in its lifecycle.\n",
    "Summary: A brief one-line summary of the issue.\n",
    "TimeSpent: Amount of time spent working on the issue.\n",
    "VersionsAffected: The versions of the project affected by the issue.\n",
    "VersionsFixed: Project versions in which the issue was (or will be) fixed.\n",
    "\n",
    "You will receive this ticket from an issue tracker in JSON format.\n",
    "Ticket: {ticket}\n",
    "\"\"\"\n",
    "init_prompt = PromptTemplate(template= init_temp, input_variables= [\"role\", \"best_practice\", \"ticket\"])\n",
    "\n",
    "init_prompt.save(\"prompts/init/initPrompt_V1.2.0.json\")"
   ]
  },
  {
   "cell_type": "markdown",
   "metadata": {},
   "source": [
    "# Update Prompt (Best Practice)\n",
    "\n",
    "- 0-shot\n",
    "- ??"
   ]
  },
  {
   "cell_type": "code",
   "execution_count": 20,
   "metadata": {},
   "outputs": [],
   "source": [
    "update_temp =\"\"\"Best Practice: Update Missing/Outdated Fields\n",
    "Get contextual knowledge about the ticket through the 'Summary', 'Description', and 'Comments' fields.\n",
    "Identify any missing or outdated fields and form recommendations for updates.\n",
    "Return a list with the changes you made with the addition of recommendations and nothing else.\n",
    "Each list item should be an object in the following format:\n",
    "\"field\": \"<name of the missing or outdated field>\",\n",
    "\"recommendation\": \"<recommendation on how to update the field and why>\"\n",
    "\n",
    "If you do not have to update fields, return \"Everything is up to date\".\"\"\"\n",
    "\n",
    "update_prompt = PromptTemplate(template= update_temp, input_variables= [])\n",
    "update_prompt.save(\"prompts/update/updatePrompt_V1.12.2.json\")"
   ]
  },
  {
   "cell_type": "markdown",
   "metadata": {},
   "source": [
    "# Summary Length Prompt (Best Practice)\n",
    "\n",
    "examples:\n",
    "- https://bugzilla.mozilla.org/page.cgi?id=bug-writing.html\n",
    "- https://bugs.eclipse.org/bugs/page.cgi?id=bug-writing.html\n"
   ]
  },
  {
   "cell_type": "markdown",
   "metadata": {},
   "source": [
    "#### Prompt"
   ]
  },
  {
   "cell_type": "code",
   "execution_count": 11,
   "metadata": {},
   "outputs": [],
   "source": [
    "sumLen_temp = \"\"\"Best Practice: Summary Length\n",
    "Your Task is to check if the ticket summary has exactly between {min} and {max} characters.\n",
    "If the number of characters is exactly in this range, return the original summary.\n",
    "Otherwise, recommend a new summary based on the information of the description field for the ticket.\"\"\"\n",
    "\n",
    "sumLen_prompt = PromptTemplate(template= sumLen_temp, input_variables= [\"min\", \"max\"])\n",
    "\n",
    "sumLen_prompt.save(\"prompts/summary/summaryLengthPrompt_V2.3.0.json\")"
   ]
  },
  {
   "cell_type": "markdown",
   "metadata": {},
   "source": [
    "#### Output format rompt"
   ]
  },
  {
   "cell_type": "code",
   "execution_count": 10,
   "metadata": {},
   "outputs": [],
   "source": [
    "sumLen_format_temp = \"\"\"### Instruction ###\n",
    "You receive a revised ticket from an issue tracker in JSON format.\n",
    "Return the given Data in the following format in JSON:\n",
    "\"<summary_old>\": \"<Old version of the content of the summary field>\"\n",
    "\"<summary_new>\": \"<New version of the content of the summary field>\"\n",
    "\n",
    "### Context ###\n",
    "Data: {revised_ticket}\"\"\"\n",
    "\n",
    "sumLen_format_prompt = PromptTemplate(template= sumLen_format_temp, input_variables= [\"revised_ticket\"])\n",
    "\n",
    "sumLen_format_prompt.save(\"prompts/summary/summaryLengthFormatPrompt_V1.0.0.json\")"
   ]
  },
  {
   "cell_type": "markdown",
   "metadata": {},
   "source": [
    "### Few-Shot"
   ]
  },
  {
   "cell_type": "code",
   "execution_count": 2,
   "metadata": {},
   "outputs": [
    {
     "data": {
      "text/plain": [
       "61"
      ]
     },
     "execution_count": 2,
     "metadata": {},
     "output_type": "execute_result"
    }
   ],
   "source": [
    "len('Opening and closing Sourcetree causes Pageant to crash\\/close')\n",
    "# between 39 and 70 characters"
   ]
  },
  {
   "cell_type": "code",
   "execution_count": 3,
   "metadata": {},
   "outputs": [],
   "source": [
    "examples = [\n",
    "    {\n",
    "        \"input\": \"\"\"{{'Summary':'Sourcetree crashes',\n",
    "'Description':'Source tree crashes everytime i open , I have uninstalled and installed many times',\n",
    "'VersionsAffected':'3.4.4',\n",
    "'IssueType':'Bug',\n",
    "'Project':'Sourcetree for Windows',\n",
    "'Components':'Git',\n",
    "'CreatedDate':'2021-09-13T05:48:08.000+0000',\n",
    "'ResolvedDate':'2021-11-18T15:12:59.000+0000',\n",
    "'Status':'Closed',\n",
    "'Priority':'Low',\n",
    "'Creator':'John Doe',\n",
    "'Reporter':'John Doe',\n",
    "'Resolution':'Cannot Reproduce',\n",
    "'IssueLinks':null,\n",
    "'Labels':null,\n",
    "'VersionsFixed':null,\n",
    "'Assignee':null,\n",
    "'TimeSpent':null,\n",
    "'Comments':[\n",
    "{{\n",
    "'Author':'Max Mustermann',\n",
    "'Created':'2021-11-18 15:12:59.861000+00:00',\n",
    "'Comment':'Issue was fixed in latest Sourcetree versions. Please use Sourcetree 3.4.5 > '\n",
    "}}\n",
    "]\n",
    "}}\"\"\",\n",
    "        \"output\": \"SourceTree crashes upon opening, despite multiple reinstallations\" \n",
    "    },\n",
    "    {\n",
    "\"input\": \"\"\"\n",
    "{{\n",
    "'Summary':'Opening and closing Sourcetree causes Pageant to crash\\/close',\n",
    "'Description':'I have installed putty and pageant outside of Sourcetree, and I have Pageant startup during OS boot so my key-file is always ready.\\r\\n\\r\\nDidn't quite notice it at first, so not sure which version it started at, but Sourcetree now causes Pageant to crash\\/close when it opens or closes, causing e.g. git commands and such from command line to suddenly start to failing for no apparent reason.\\r\\n\\r\\nWhenever I open or close Sourcetree now, I have to reopen Pageant and reload my key, including entering a long passkey. Super annoying. Sourcetree shouldn't close or cause any other applications to crash when it opens or when it closes.\\r\\n\\r\\nIt happens on all 3 computers of mine. All running latest Windows, latest Pageant, and latest Sourcetree.',\n",
    "'VersionsAffected':'3.4.4',\n",
    "'IssueType':'Bug',\n",
    "'Project':'Sourcetree for Windows',\n",
    "'Components':'General',\n",
    "'CreatedDate':'2021-04-26T08:26:07.000+0000',\n",
    "'ResolvedDate':'2021-04-27T06:38:20.000+0000',\n",
    "'Status':'Closed',\n",
    "'Priority':'Low',\n",
    "'Creator':'Jane Doe',\n",
    "'Reporter':'Jane Doe',\n",
    "'Resolution':'Duplicate',\n",
    "'IssueLinks':null,\n",
    "'Labels':'verified',\n",
    "'VersionsFixed':null,\n",
    "'Assignee':null,\n",
    "'TimeSpent':null,\n",
    "'Comments':[\n",
    "{{\n",
    "'Author':'Jonathan Smith',\n",
    "'Created':'2021-04-26 10:07:20.880000+00:00',\n",
    "'Comment':'Known issue, duplicate. Please use ticket\\u00a0SRCTREEWIN-13475\\u00a0for suggestions and tracking updates.'\n",
    "}}\n",
    "]\n",
    "}}\"\"\",\n",
    "\"output\": \"Opening and closing Sourcetree causes Pageant to crash\\/close\" \n",
    "    }\n",
    "]"
   ]
  },
  {
   "cell_type": "code",
   "execution_count": 4,
   "metadata": {},
   "outputs": [
    {
     "ename": "KeyError",
     "evalue": "'min'",
     "output_type": "error",
     "traceback": [
      "\u001b[0;31m---------------------------------------------------------------------------\u001b[0m",
      "\u001b[0;31mKeyError\u001b[0m                                  Traceback (most recent call last)",
      "Cell \u001b[0;32mIn[4], line 10\u001b[0m\n\u001b[1;32m      1\u001b[0m example_prompt \u001b[38;5;241m=\u001b[39m PromptTemplate(\n\u001b[1;32m      2\u001b[0m     input_variables\u001b[38;5;241m=\u001b[39m[\u001b[38;5;124m\"\u001b[39m\u001b[38;5;124mmin\u001b[39m\u001b[38;5;124m\"\u001b[39m, \u001b[38;5;124m\"\u001b[39m\u001b[38;5;124mmax\u001b[39m\u001b[38;5;124m\"\u001b[39m], \n\u001b[1;32m      3\u001b[0m     template\u001b[38;5;241m=\u001b[39m\u001b[38;5;124m\"\"\"\u001b[39m\u001b[38;5;124mBest Practice: Summary Length\u001b[39m\n\u001b[0;32m   (...)\u001b[0m\n\u001b[1;32m      7\u001b[0m \u001b[38;5;124mPlease return only the summary and nothing else.\u001b[39m\u001b[38;5;124m\"\"\"\u001b[39m\n\u001b[1;32m      8\u001b[0m )\n\u001b[0;32m---> 10\u001b[0m \u001b[38;5;28mprint\u001b[39m(\u001b[43mexample_prompt\u001b[49m\u001b[38;5;241;43m.\u001b[39;49m\u001b[43mformat\u001b[49m\u001b[43m(\u001b[49m\u001b[38;5;241;43m*\u001b[39;49m\u001b[38;5;241;43m*\u001b[39;49m\u001b[43mexamples\u001b[49m\u001b[43m[\u001b[49m\u001b[38;5;241;43m0\u001b[39;49m\u001b[43m]\u001b[49m\u001b[43m)\u001b[49m)\n",
      "File \u001b[0;32m~/Development/source/master-thesis/venv_master/lib/python3.11/site-packages/langchain_core/prompts/prompt.py:132\u001b[0m, in \u001b[0;36mPromptTemplate.format\u001b[0;34m(self, **kwargs)\u001b[0m\n\u001b[1;32m    117\u001b[0m \u001b[38;5;250m\u001b[39m\u001b[38;5;124;03m\"\"\"Format the prompt with the inputs.\u001b[39;00m\n\u001b[1;32m    118\u001b[0m \n\u001b[1;32m    119\u001b[0m \u001b[38;5;124;03mArgs:\u001b[39;00m\n\u001b[0;32m   (...)\u001b[0m\n\u001b[1;32m    129\u001b[0m \u001b[38;5;124;03m        prompt.format(variable1=\"foo\")\u001b[39;00m\n\u001b[1;32m    130\u001b[0m \u001b[38;5;124;03m\"\"\"\u001b[39;00m\n\u001b[1;32m    131\u001b[0m kwargs \u001b[38;5;241m=\u001b[39m \u001b[38;5;28mself\u001b[39m\u001b[38;5;241m.\u001b[39m_merge_partial_and_user_variables(\u001b[38;5;241m*\u001b[39m\u001b[38;5;241m*\u001b[39mkwargs)\n\u001b[0;32m--> 132\u001b[0m \u001b[38;5;28;01mreturn\u001b[39;00m \u001b[43mDEFAULT_FORMATTER_MAPPING\u001b[49m\u001b[43m[\u001b[49m\u001b[38;5;28;43mself\u001b[39;49m\u001b[38;5;241;43m.\u001b[39;49m\u001b[43mtemplate_format\u001b[49m\u001b[43m]\u001b[49m\u001b[43m(\u001b[49m\u001b[38;5;28;43mself\u001b[39;49m\u001b[38;5;241;43m.\u001b[39;49m\u001b[43mtemplate\u001b[49m\u001b[43m,\u001b[49m\u001b[43m \u001b[49m\u001b[38;5;241;43m*\u001b[39;49m\u001b[38;5;241;43m*\u001b[39;49m\u001b[43mkwargs\u001b[49m\u001b[43m)\u001b[49m\n",
      "File \u001b[0;32m~/anaconda3/lib/python3.11/string.py:190\u001b[0m, in \u001b[0;36mFormatter.format\u001b[0;34m(self, format_string, *args, **kwargs)\u001b[0m\n\u001b[1;32m    189\u001b[0m \u001b[38;5;28;01mdef\u001b[39;00m \u001b[38;5;21mformat\u001b[39m(\u001b[38;5;28mself\u001b[39m, format_string, \u001b[38;5;241m/\u001b[39m, \u001b[38;5;241m*\u001b[39margs, \u001b[38;5;241m*\u001b[39m\u001b[38;5;241m*\u001b[39mkwargs):\n\u001b[0;32m--> 190\u001b[0m     \u001b[38;5;28;01mreturn\u001b[39;00m \u001b[38;5;28;43mself\u001b[39;49m\u001b[38;5;241;43m.\u001b[39;49m\u001b[43mvformat\u001b[49m\u001b[43m(\u001b[49m\u001b[43mformat_string\u001b[49m\u001b[43m,\u001b[49m\u001b[43m \u001b[49m\u001b[43margs\u001b[49m\u001b[43m,\u001b[49m\u001b[43m \u001b[49m\u001b[43mkwargs\u001b[49m\u001b[43m)\u001b[49m\n",
      "File \u001b[0;32m~/Development/source/master-thesis/venv_master/lib/python3.11/site-packages/langchain_core/utils/formatting.py:18\u001b[0m, in \u001b[0;36mStrictFormatter.vformat\u001b[0;34m(self, format_string, args, kwargs)\u001b[0m\n\u001b[1;32m     13\u001b[0m \u001b[38;5;28;01mif\u001b[39;00m \u001b[38;5;28mlen\u001b[39m(args) \u001b[38;5;241m>\u001b[39m \u001b[38;5;241m0\u001b[39m:\n\u001b[1;32m     14\u001b[0m     \u001b[38;5;28;01mraise\u001b[39;00m \u001b[38;5;167;01mValueError\u001b[39;00m(\n\u001b[1;32m     15\u001b[0m         \u001b[38;5;124m\"\u001b[39m\u001b[38;5;124mNo arguments should be provided, \u001b[39m\u001b[38;5;124m\"\u001b[39m\n\u001b[1;32m     16\u001b[0m         \u001b[38;5;124m\"\u001b[39m\u001b[38;5;124meverything should be passed as keyword arguments.\u001b[39m\u001b[38;5;124m\"\u001b[39m\n\u001b[1;32m     17\u001b[0m     )\n\u001b[0;32m---> 18\u001b[0m \u001b[38;5;28;01mreturn\u001b[39;00m \u001b[38;5;28;43msuper\u001b[39;49m\u001b[43m(\u001b[49m\u001b[43m)\u001b[49m\u001b[38;5;241;43m.\u001b[39;49m\u001b[43mvformat\u001b[49m\u001b[43m(\u001b[49m\u001b[43mformat_string\u001b[49m\u001b[43m,\u001b[49m\u001b[43m \u001b[49m\u001b[43margs\u001b[49m\u001b[43m,\u001b[49m\u001b[43m \u001b[49m\u001b[43mkwargs\u001b[49m\u001b[43m)\u001b[49m\n",
      "File \u001b[0;32m~/anaconda3/lib/python3.11/string.py:194\u001b[0m, in \u001b[0;36mFormatter.vformat\u001b[0;34m(self, format_string, args, kwargs)\u001b[0m\n\u001b[1;32m    192\u001b[0m \u001b[38;5;28;01mdef\u001b[39;00m \u001b[38;5;21mvformat\u001b[39m(\u001b[38;5;28mself\u001b[39m, format_string, args, kwargs):\n\u001b[1;32m    193\u001b[0m     used_args \u001b[38;5;241m=\u001b[39m \u001b[38;5;28mset\u001b[39m()\n\u001b[0;32m--> 194\u001b[0m     result, _ \u001b[38;5;241m=\u001b[39m \u001b[38;5;28;43mself\u001b[39;49m\u001b[38;5;241;43m.\u001b[39;49m\u001b[43m_vformat\u001b[49m\u001b[43m(\u001b[49m\u001b[43mformat_string\u001b[49m\u001b[43m,\u001b[49m\u001b[43m \u001b[49m\u001b[43margs\u001b[49m\u001b[43m,\u001b[49m\u001b[43m \u001b[49m\u001b[43mkwargs\u001b[49m\u001b[43m,\u001b[49m\u001b[43m \u001b[49m\u001b[43mused_args\u001b[49m\u001b[43m,\u001b[49m\u001b[43m \u001b[49m\u001b[38;5;241;43m2\u001b[39;49m\u001b[43m)\u001b[49m\n\u001b[1;32m    195\u001b[0m     \u001b[38;5;28mself\u001b[39m\u001b[38;5;241m.\u001b[39mcheck_unused_args(used_args, args, kwargs)\n\u001b[1;32m    196\u001b[0m     \u001b[38;5;28;01mreturn\u001b[39;00m result\n",
      "File \u001b[0;32m~/anaconda3/lib/python3.11/string.py:234\u001b[0m, in \u001b[0;36mFormatter._vformat\u001b[0;34m(self, format_string, args, kwargs, used_args, recursion_depth, auto_arg_index)\u001b[0m\n\u001b[1;32m    230\u001b[0m     auto_arg_index \u001b[38;5;241m=\u001b[39m \u001b[38;5;28;01mFalse\u001b[39;00m\n\u001b[1;32m    232\u001b[0m \u001b[38;5;66;03m# given the field_name, find the object it references\u001b[39;00m\n\u001b[1;32m    233\u001b[0m \u001b[38;5;66;03m#  and the argument it came from\u001b[39;00m\n\u001b[0;32m--> 234\u001b[0m obj, arg_used \u001b[38;5;241m=\u001b[39m \u001b[38;5;28;43mself\u001b[39;49m\u001b[38;5;241;43m.\u001b[39;49m\u001b[43mget_field\u001b[49m\u001b[43m(\u001b[49m\u001b[43mfield_name\u001b[49m\u001b[43m,\u001b[49m\u001b[43m \u001b[49m\u001b[43margs\u001b[49m\u001b[43m,\u001b[49m\u001b[43m \u001b[49m\u001b[43mkwargs\u001b[49m\u001b[43m)\u001b[49m\n\u001b[1;32m    235\u001b[0m used_args\u001b[38;5;241m.\u001b[39madd(arg_used)\n\u001b[1;32m    237\u001b[0m \u001b[38;5;66;03m# do any conversion on the resulting object\u001b[39;00m\n",
      "File \u001b[0;32m~/anaconda3/lib/python3.11/string.py:299\u001b[0m, in \u001b[0;36mFormatter.get_field\u001b[0;34m(self, field_name, args, kwargs)\u001b[0m\n\u001b[1;32m    296\u001b[0m \u001b[38;5;28;01mdef\u001b[39;00m \u001b[38;5;21mget_field\u001b[39m(\u001b[38;5;28mself\u001b[39m, field_name, args, kwargs):\n\u001b[1;32m    297\u001b[0m     first, rest \u001b[38;5;241m=\u001b[39m _string\u001b[38;5;241m.\u001b[39mformatter_field_name_split(field_name)\n\u001b[0;32m--> 299\u001b[0m     obj \u001b[38;5;241m=\u001b[39m \u001b[38;5;28;43mself\u001b[39;49m\u001b[38;5;241;43m.\u001b[39;49m\u001b[43mget_value\u001b[49m\u001b[43m(\u001b[49m\u001b[43mfirst\u001b[49m\u001b[43m,\u001b[49m\u001b[43m \u001b[49m\u001b[43margs\u001b[49m\u001b[43m,\u001b[49m\u001b[43m \u001b[49m\u001b[43mkwargs\u001b[49m\u001b[43m)\u001b[49m\n\u001b[1;32m    301\u001b[0m     \u001b[38;5;66;03m# loop through the rest of the field_name, doing\u001b[39;00m\n\u001b[1;32m    302\u001b[0m     \u001b[38;5;66;03m#  getattr or getitem as needed\u001b[39;00m\n\u001b[1;32m    303\u001b[0m     \u001b[38;5;28;01mfor\u001b[39;00m is_attr, i \u001b[38;5;129;01min\u001b[39;00m rest:\n",
      "File \u001b[0;32m~/anaconda3/lib/python3.11/string.py:256\u001b[0m, in \u001b[0;36mFormatter.get_value\u001b[0;34m(self, key, args, kwargs)\u001b[0m\n\u001b[1;32m    254\u001b[0m     \u001b[38;5;28;01mreturn\u001b[39;00m args[key]\n\u001b[1;32m    255\u001b[0m \u001b[38;5;28;01melse\u001b[39;00m:\n\u001b[0;32m--> 256\u001b[0m     \u001b[38;5;28;01mreturn\u001b[39;00m \u001b[43mkwargs\u001b[49m\u001b[43m[\u001b[49m\u001b[43mkey\u001b[49m\u001b[43m]\u001b[49m\n",
      "\u001b[0;31mKeyError\u001b[0m: 'min'"
     ]
    }
   ],
   "source": [
    "# example_prompt = PromptTemplate(\n",
    "#     input_variables=[\"min\", \"max\"], \n",
    "#     template=\"\"\"Best Practice: Summary Length\n",
    "# Your Task is to check if the ticket summary has exactly between {min} and {max} characters.\n",
    "# If the number of characters is exactly in this range, return the original summary.\n",
    "# Otherwise, recommend a new summary based on the information of the description field for the ticket.\n",
    "# Please return only the summary and nothing else.\"\"\"\n",
    "# )\n",
    "\n",
    "# print(example_prompt.format(**examples[0]))"
   ]
  },
  {
   "cell_type": "code",
   "execution_count": null,
   "metadata": {},
   "outputs": [],
   "source": [
    "sumLen_fs_prompt = FewShotPromptTemplate(\n",
    "    examples=examples,\n",
    "    example_prompt=example_prompt,\n",
    "    suffix= \"\"\"Best Practice: Summary Length\n",
    "Your Task is to check if the ticket summary has exactly between {min} and {max} characters.\n",
    "If the number of characters is exactly in this range, return the original summary.\n",
    "Otherwise, recommend a new summary based on the information of the description field for the ticket.\n",
    "Please return only the summary and nothing else.\"\"\",\n",
    "    input_variables=[\"min\", \"max\"]\n",
    ")\n",
    "\n",
    "sumLen_fs_prompt.save(\"prompts/summary/summaryLengthPrompt_V3.0.0.json\")"
   ]
  },
  {
   "cell_type": "markdown",
   "metadata": {},
   "source": [
    "# Description Length Prompt (Best Practice)"
   ]
  },
  {
   "cell_type": "code",
   "execution_count": 2,
   "metadata": {},
   "outputs": [],
   "source": [
    "descLen_temp = \"\"\"Best Practice: Description Length\n",
    "Your Task is to check if the ticket description has approximately between {min} and {max} characters.\n",
    "Ignore source code snippets or images in the description.\n",
    "If the number of characters is in this range, return the original description.\n",
    "Otherwise, recommend a new description.\n",
    "Keep this description more technical and less requesting or asking for help.\n",
    "Return only the description string and nothing else.\"\"\"\n",
    "\n",
    "descLen_prompt = PromptTemplate(template= descLen_temp, input_variables= [\"min\", \"max\"])\n",
    "\n",
    "descLen_prompt.save(\"prompts/description/descriptionLengthPrompt_V2.7.0.json\")"
   ]
  },
  {
   "cell_type": "markdown",
   "metadata": {},
   "source": [
    "# Toxic Speech Prompt (Best Practice)"
   ]
  },
  {
   "cell_type": "markdown",
   "metadata": {},
   "source": [
    "#### Prompt"
   ]
  },
  {
   "cell_type": "code",
   "execution_count": 17,
   "metadata": {},
   "outputs": [],
   "source": [
    "toxicSpeech_temp = \"\"\"Best Practice: Toxic Speech Detection\n",
    "Your task is to check the comments section for toxic speech.\n",
    "If you detect toxic speech, return the comment, the author, the datetime, and give a recommendation how to updated the comment.\"\"\"\n",
    "\n",
    "toxicSpeech_prompt = PromptTemplate(template= toxicSpeech_temp, input_variables= [])\n",
    "\n",
    "toxicSpeech_prompt.save(\"prompts/toxicSpeech/toxicSpeechPrompt_V1.5.0.json\")"
   ]
  },
  {
   "cell_type": "markdown",
   "metadata": {},
   "source": [
    "#### Output format prompt"
   ]
  },
  {
   "cell_type": "code",
   "execution_count": 13,
   "metadata": {},
   "outputs": [],
   "source": [
    "toxicSpeech_format_temp = \"\"\"### Instruction ###\n",
    "You receive a list of comments from a revised ticket from an issue tracker.\n",
    "Return the given Data for each entry in the following format in JSON:\n",
    "\"comment\": \"<content of the original comment>\",\n",
    "\"author\": \"<name of the original comment>\",\n",
    "\"datetime\": \"<datetime of the original comment>\",\n",
    "\"recommendation\": \"<revised content of the comment>\"\n",
    "If the list is empty return \"no toxic speech detected\".\n",
    "\n",
    "### Context ###\n",
    "Data: {revised_ticket} \"\"\"\n",
    "\n",
    "toxicSpeech_format_prompt = PromptTemplate(template= toxicSpeech_format_temp, input_variables= [\"revised_ticket\"])\n",
    "\n",
    "toxicSpeech_format_prompt.save(\"prompts/toxicSpeech/toxicSpeechFormatPrompt_V1.1.0.json\")"
   ]
  },
  {
   "cell_type": "markdown",
   "metadata": {},
   "source": [
    "# Internationalization Prompt (Best Practice)\n",
    "\n",
    "- 0-shot\n",
    "- ??"
   ]
  },
  {
   "cell_type": "markdown",
   "metadata": {},
   "source": [
    "#### Prompt"
   ]
  },
  {
   "cell_type": "code",
   "execution_count": 5,
   "metadata": {},
   "outputs": [],
   "source": [
    "internationalization_temp = \"\"\"Best Practice: Internationalization\n",
    "Bug reports not written in English are often closed immediately or ignored by developers.\n",
    "Your task is to check if the ticket is written in English.\n",
    "If some fields of the ticket are not written in English, provide a translation.\n",
    "Return only the revised ticket and nothing else.\"\"\"\n",
    "\n",
    "internationalization_prompt = PromptTemplate(template= internationalization_temp, input_variables= [])\n",
    "\n",
    "internationalization_prompt.save(\"prompts/internationalization/internationalizationPrompt_V2.1.0.json\")"
   ]
  },
  {
   "cell_type": "markdown",
   "metadata": {},
   "source": [
    "#### output format prompt"
   ]
  },
  {
   "cell_type": "code",
   "execution_count": 9,
   "metadata": {},
   "outputs": [],
   "source": [
    "internationalization_format_temp = \"\"\"### Instruction ###\n",
    "You receive a revised ticket from an issue tracker in JSON format.\n",
    "Return the given Data in the following format in JSON:\n",
    "\"<field>\": \"<content of the field>\"\n",
    "\n",
    "### Context ###\n",
    "Data: {revised_ticket}\"\"\"\n",
    "\n",
    "internationalization_format_prompt = PromptTemplate(template= internationalization_format_temp, input_variables= [\"revised_ticket\"])\n",
    "\n",
    "internationalization_format_prompt.save(\"prompts/internationalization/internationalizationFormatPrompt_V1.2.0.json\")"
   ]
  },
  {
   "cell_type": "markdown",
   "metadata": {},
   "source": [
    "# Bug Report Structure\n",
    "\n",
    "\n",
    "maybe more of this structure:\n",
    "- https://bugzilla.mozilla.org/page.cgi?id=bug-writing.html\n",
    "- https://bugs.eclipse.org/bugs/page.cgi?id=bug-writing.html"
   ]
  },
  {
   "cell_type": "markdown",
   "metadata": {},
   "source": [
    "### few-shot"
   ]
  },
  {
   "cell_type": "code",
   "execution_count": 4,
   "metadata": {},
   "outputs": [],
   "source": [
    "examples = [\n",
    "    {\n",
    "        \"input\": \"\"\"{{'Summary':'Sourcetree crashes',\n",
    "'Description':'Source tree crashes everytime i open , I have uninstalled and installed many times',\n",
    "'VersionsAffected':'3.4.4',\n",
    "'IssueType':'Bug',\n",
    "'Project':'Sourcetree for Windows',\n",
    "'Components':'Git',\n",
    "'CreatedDate':'2021-09-13T05:48:08.000+0000',\n",
    "'ResolvedDate':'2021-11-18T15:12:59.000+0000',\n",
    "'Status':'Closed',\n",
    "'Priority':'Low',\n",
    "'Creator':'John Doe',\n",
    "'Reporter':'John Doe',\n",
    "'Resolution':'Cannot Reproduce',\n",
    "'IssueLinks':null,\n",
    "'Labels':null,\n",
    "'VersionsFixed':null,\n",
    "'Assignee':null,\n",
    "'TimeSpent':null,\n",
    "'Comments':[\n",
    "{{\n",
    "'Author':'Max Mustermann',\n",
    "'Created':'2021-11-18 15:12:59.861000+00:00',\n",
    "'Comment':'Issue was fixed in latest Sourcetree versions. Please use Sourcetree 3.4.5 > '\n",
    "}}\n",
    "]\n",
    "}}\"\"\",\n",
    "        \"output\": \"\"\"\n",
    "1. Overview\n",
    "Source tree crashes everytime i open , I have uninstalled and installed many times\n",
    "2. Steps to reproduce\n",
    "!not provided\n",
    "3. Actual result\n",
    "Source tree crashes\n",
    "4. Expected result\n",
    "Source tree does not crash\n",
    "5. Stack Traces\n",
    "!not provided\n",
    "6. Build date and hardware\n",
    "!not provided\n",
    "7. Additional information\n",
    "!not provided\n",
    "\"\"\" \n",
    "    },\n",
    "    {\n",
    "\"input\": \"\"\"\n",
    "{{\n",
    "'Summary':'Opening and closing Sourcetree causes Pageant to crash\\/close',\n",
    "'Description':'I have installed putty and pageant outside of Sourcetree, and I have Pageant startup during OS boot so my key-file is always ready.\\r\\n\\r\\nDidn't quite notice it at first, so not sure which version it started at, but Sourcetree now causes Pageant to crash\\/close when it opens or closes, causing e.g. git commands and such from command line to suddenly start to failing for no apparent reason.\\r\\n\\r\\nWhenever I open or close Sourcetree now, I have to reopen Pageant and reload my key, including entering a long passkey. Super annoying. Sourcetree shouldn't close or cause any other applications to crash when it opens or when it closes.\\r\\n\\r\\nIt happens on all 3 computers of mine. All running latest Windows, latest Pageant, and latest Sourcetree.',\n",
    "'VersionsAffected':'3.4.4',\n",
    "'IssueType':'Bug',\n",
    "'Project':'Sourcetree for Windows',\n",
    "'Components':'General',\n",
    "'CreatedDate':'2021-04-26T08:26:07.000+0000',\n",
    "'ResolvedDate':'2021-04-27T06:38:20.000+0000',\n",
    "'Status':'Closed',\n",
    "'Priority':'Low',\n",
    "'Creator':'Jane Doe',\n",
    "'Reporter':'Jane Doe',\n",
    "'Resolution':'Duplicate',\n",
    "'IssueLinks':null,\n",
    "'Labels':'verified',\n",
    "'VersionsFixed':null,\n",
    "'Assignee':null,\n",
    "'TimeSpent':null,\n",
    "'Comments':[\n",
    "{{\n",
    "'Author':'Jane Doe',\n",
    "'Created':'2021-04-26 08:41:02.391000+00:00',\n",
    "'Comment':'I have tried to disable the \\\"Automatically start SSH agent when Sourcetree opens\\\" option, as I thought maybe that was what was messing with things, but that didn't change anything. Pageant still disappears from my systray when Sourcetree opens or closes.'\n",
    "}},\n",
    "{{\n",
    "'Author':'Jane Doe',\n",
    "'Created':'2021-04-26 08:42:41.095000+00:00',\n",
    "'Comment':'Just noticed Sourcetree even causes Pageant to crash\\/close when I close the Options dialog... \\ud83d\\ude44'\n",
    "}},\n",
    "{{\n",
    "'Author':'Jonathan Smith',\n",
    "'Created':'2021-04-26 10:07:20.880000+00:00',\n",
    "'Comment':'Known issue, duplicate. Please use ticket\\u00a0SRCTREEWIN-13475\\u00a0for suggestions and tracking updates.'\n",
    "}}\n",
    "]\n",
    "}}\"\"\",\n",
    "\"output\": \"\"\"\n",
    "1. Overview\n",
    "I have installed putty and pageant outside of Sourcetree, and I have Pageant startup during OS boot so my key-file is always ready. Didn't quite notice it at first, but Sourcetree now causes Pageant to crash/close when it opens or closes, causing e.g. git commands and such from command line to suddenly start to failing for no apparent reason. Whenever I open or close Sourcetree now, I have to reopen Pageant and reload my key, including entering a long passkey. Super annoying. It happens on all 3 computers of mine.             \n",
    "2. Steps to reproduce\n",
    "- Install putty and pageant outside of Sourcetree\n",
    "- Set Pageant to startup during OS boot\n",
    "- pen or close Sourcetree\n",
    "3. Actual result\n",
    "Sourcetree causes Pageant to crash\\/close when it opens or closes.\n",
    "4. Expected result\n",
    "Sourcetree should not close or cause any other applications to crash when it opens or when it closes.\n",
    "5. Stack Traces\n",
    "!not provided\n",
    "6. Build date and hardware\n",
    "All running latest Windows, latest Pageant, and latest Sourcetree.\n",
    "Not sure which version it started.\n",
    "7. Additional information\n",
    "- I have tried to disable the \"Automatically start SSH agent when Sourcetree opens\" option, as I thought maybe that was what was messing with things, but that didn't change anything. Pageant still disappears from my systray when Sourcetree opens or closes.\n",
    "- Just noticed Sourcetree even causes Pageant to crash/close when I close the Options dialog.\n",
    "\"\"\" \n",
    "    }\n",
    "]"
   ]
  },
  {
   "cell_type": "code",
   "execution_count": 5,
   "metadata": {},
   "outputs": [],
   "source": [
    "example_prompt = PromptTemplate(\n",
    "    input_variables=[\"input\", \"output\"], \n",
    "    template=\"\"\"### Context ###\n",
    "A bug report is a document that describes an issue with a product or service and why it needs fixing.\n",
    "The description field is significant for the bug report, as it describes the issue in detail.\n",
    "The description should contain the following structure:\n",
    "1. Overview: This is more detailed than the summary field of the bug report, with a description of the context when the error occurred.\n",
    "2. Steps to reproduce: A list of steps to reproduce the error.\n",
    "3. Actual result: The result that is currently produced.\n",
    "4. Expected result: The result that is expected.\n",
    "5. Stack Traces: A list of relevant stack traces for the bug report.\n",
    "6. Build date and hardware: The build date and hardware, when and where the bug occurred.\n",
    "7. Additional information: Additional information relevant to the bug report. That can be screenshots, videos, or other files.\n",
    "\n",
    "### Instruction ###\n",
    "Act as a professional Software Engineer working with issue trackers like Jira or Azure DevOps.\n",
    "Rearrange the description field of the bug report to match the structure described above.\n",
    "If some information is missing, give suggestions and add them to the description field, if possible.\n",
    "Return the new description field and nothing else.\n",
    "\n",
    "The bug report is provided in JSON format.\n",
    "Bug Report: {input} \\n {output}\"\"\"\n",
    ")"
   ]
  },
  {
   "cell_type": "code",
   "execution_count": 6,
   "metadata": {},
   "outputs": [],
   "source": [
    "bugReportStructure_fs_prompt = FewShotPromptTemplate(\n",
    "    examples=examples,\n",
    "    example_prompt=example_prompt,\n",
    "    suffix= \"\"\"### Context ###\n",
    "A bug report is a document that describes an issue with a product or service and why it needs fixing.\n",
    "The description field is significant for the bug report, as it describes the issue in detail.\n",
    "The description should contain the following structure:\n",
    "1. Overview: This is more detailed than the summary field of the bug report, with a description of the context when the error occurred.\n",
    "2. Steps to reproduce: A list of steps to reproduce the error.\n",
    "3. Actual result: The result that is currently produced.\n",
    "4. Expected result: The result that is expected.\n",
    "5. Stack Traces: A list of relevant stack traces for the bug report.\n",
    "6. Build date and hardware: The build date and hardware, when and where the bug occurred.\n",
    "7. Additional information: Additional information relevant to the bug report. That can be screenshots, videos, or other files.\n",
    "\n",
    "### Instruction ###\n",
    "Act as a professional Software Engineer working with issue trackers like Jira or Azure DevOps.\n",
    "Rearrange the description field of the bug report to match the structure described above.\n",
    "If some information is missing, give suggestions and add them to the description field, if possible.\n",
    "Return the new description field and nothing else.\n",
    "\n",
    "The bug report is provided in JSON format.\n",
    "Bug Report: {bug_report}\"\"\",\n",
    "    input_variables=[\"bug_report\"]\n",
    ")\n",
    "\n",
    "bugReportStructure_fs_prompt.save(\"prompts/bugReportStructure/bugReportStructurePrompt_V2.1.0.json\")"
   ]
  },
  {
   "cell_type": "markdown",
   "metadata": {},
   "source": [
    "### 0-shot (deprecated)"
   ]
  },
  {
   "cell_type": "code",
   "execution_count": 11,
   "metadata": {},
   "outputs": [],
   "source": [
    "bugReportStructure_temp = \"\"\"### Context ###\n",
    "A bug report is a document that describes an issue with a product or service and why it needs fixing.\n",
    "The description field is significant for the bug report, as it describes the issue in detail.\n",
    "The description should contain the following structure:\n",
    "1. Overview: This is more detailed than the summary field of the bug report, with a description of the context when the error occurred.\n",
    "2. Steps to reproduce: A list of steps to reproduce the error.\n",
    "3. Actual result: The result that is currently produced.\n",
    "4. Expected result: The result that is expected.\n",
    "5. Stack Traces: A list of relevant stack traces for the bug report.\n",
    "6. Build date and hardware: The build date and hardware, when and where the bug occurred.\n",
    "7. Additional information: Additional information relevant to the bug report. That can be screenshots, videos, or other files.\n",
    "\n",
    "### Instruction ###\n",
    "Act as a professional Software Engineer working with issue trackers like Jira or Azure DevOps.\n",
    "Rearrange the description field of the bug report to match the structure described above.\n",
    "If some information is missing, give suggestions and add them to the description field, if possible.\n",
    "Return the new description field and nothing else.\n",
    "\n",
    "The bug report is provided in JSON format.\n",
    "Bug Report: {bug_report}\n",
    "\"\"\"\n",
    "\n",
    "bugReportStructure_prompt = PromptTemplate(\n",
    "    template=bugReportStructure_temp, \n",
    "    input_variables=[\"bug_report\"])\n",
    "\n",
    "bugReportStructure_prompt.save(\"prompts/bugReportStructure/bugReportStructurePrompt_V1.1.1.json\")"
   ]
  }
 ],
 "metadata": {
  "kernelspec": {
   "display_name": "venv_master",
   "language": "python",
   "name": "python3"
  },
  "language_info": {
   "codemirror_mode": {
    "name": "ipython",
    "version": 3
   },
   "file_extension": ".py",
   "mimetype": "text/x-python",
   "name": "python",
   "nbconvert_exporter": "python",
   "pygments_lexer": "ipython3",
   "version": "3.11.4"
  }
 },
 "nbformat": 4,
 "nbformat_minor": 2
}
