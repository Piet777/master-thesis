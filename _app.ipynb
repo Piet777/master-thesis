{
 "cells": [
  {
   "cell_type": "markdown",
   "metadata": {},
   "source": [
    "# With ChatModel"
   ]
  },
  {
   "cell_type": "code",
   "execution_count": 88,
   "metadata": {},
   "outputs": [],
   "source": [
    "import pandas as pd\n",
    "\n",
    "from langchain.chat_models import ChatOpenAI\n",
    "from langchain.prompts import (\n",
    "    ChatPromptTemplate,\n",
    "    load_prompt\n",
    ")\n",
    "from langchain.schema import StrOutputParser"
   ]
  },
  {
   "cell_type": "code",
   "execution_count": 89,
   "metadata": {},
   "outputs": [],
   "source": [
    "model = ChatOpenAI(\n",
    "    model_name='gpt-4',\n",
    "    api_key=open('api.txt', 'r').read(),\n",
    "    temperature=0.1,\n",
    "    verbose=True\n",
    ")"
   ]
  },
  {
   "cell_type": "code",
   "execution_count": 90,
   "metadata": {},
   "outputs": [],
   "source": [
    "sampleTicket = pd.read_csv('./data/csv/last_row.csv')"
   ]
  },
  {
   "cell_type": "code",
   "execution_count": 91,
   "metadata": {},
   "outputs": [],
   "source": [
    "context_prompt = ChatPromptTemplate.from_messages([\n",
    "        (\"system\", load_prompt('prompts/init/init_prompt_V01.json').template),\n",
    "        (\"system\", load_prompt('prompts/task/task_prompt_V01.json').template),\n",
    "        (\"system\", load_prompt('prompts/context/context_prompt_V01.json').template),\n",
    "    ]\n",
    ")"
   ]
  },
  {
   "cell_type": "code",
   "execution_count": 92,
   "metadata": {},
   "outputs": [],
   "source": [
    "context_chain = context_prompt | model | StrOutputParser()\n"
   ]
  },
  {
   "cell_type": "code",
   "execution_count": 93,
   "metadata": {},
   "outputs": [
    {
     "data": {
      "text/plain": [
       "'Ticket Information:\\n\\n- EvoId: 5\\n- Summary: Sourcetree crashes\\n- Description: Source tree crashes every time I open, I have tried reinstalling it but the issue persists.\\n- VersionsAffected: 3.4.4\\n- IssueType: Bug\\n- Project: Sourcetree for Windows\\n- Components: Git\\n- CreatedDate: 2021-09-13T05:48:08.000+0000\\n- ResolvedDate: 2021-11-18T15:12:59.000+0000\\n- Status: Closed\\n- Priority: Low\\n- Creator: Shefali Bhandary\\n- Reporter: Shefali Bhandary\\n- Comments: Issue was fixed in latest Sourcetree versions.\\n- Resolution: Cannot Reproduce\\n\\nPlease note that the fields IssueLinks, Labels, VersionsFixed, Assignee, and TimeSpent are not available for this ticket.'"
      ]
     },
     "execution_count": 93,
     "metadata": {},
     "output_type": "execute_result"
    }
   ],
   "source": [
    "context_chain.invoke({\"role\":\"Software Engineer\", \"ticket\":sampleTicket})"
   ]
  }
 ],
 "metadata": {
  "kernelspec": {
   "display_name": "venv_master",
   "language": "python",
   "name": "python3"
  },
  "language_info": {
   "codemirror_mode": {
    "name": "ipython",
    "version": 3
   },
   "file_extension": ".py",
   "mimetype": "text/x-python",
   "name": "python",
   "nbconvert_exporter": "python",
   "pygments_lexer": "ipython3",
   "version": "3.11.4"
  }
 },
 "nbformat": 4,
 "nbformat_minor": 2
}
