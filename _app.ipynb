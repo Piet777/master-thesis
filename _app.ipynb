{
 "cells": [
  {
   "cell_type": "markdown",
   "metadata": {},
   "source": [
    "# With ChatModel"
   ]
  },
  {
   "cell_type": "code",
   "execution_count": 27,
   "metadata": {},
   "outputs": [],
   "source": [
    "import json\n",
    "\n",
    "from datetime import datetime\n",
    "\n",
    "from langchain.chat_models import ChatOpenAI\n",
    "from langchain.prompts import load_prompt\n",
    "from langchain.schema import StrOutputParser\n",
    "from langchain_core.output_parsers import JsonOutputParser"
   ]
  },
  {
   "cell_type": "code",
   "execution_count": 28,
   "metadata": {},
   "outputs": [],
   "source": [
    "def save_result(output, prompt_type, model, init, best_practice, format_prompt, output_parser, input_data, reruns):\n",
    "    now = datetime.now()\n",
    "    date = now.strftime(\"%Y-%m-%d\")\n",
    "    time = now.strftime(\"%H:%M:%S\")\n",
    "\n",
    "    result = {}\n",
    "    result['model'] = model\n",
    "    result['creation_timestamp'] = date + ' ' + time\n",
    "    result['prompts'] = {\n",
    "        'init_uri': init,\n",
    "        'best_practice_uri': best_practice,\n",
    "        'formatter_uri': format_prompt}\n",
    "    result['output_parser'] = output_parser\n",
    "    result['input_data'] = input_data\n",
    "    result['reruns'] = reruns\n",
    "    result['output'] = output\n",
    "\n",
    "    with open('results/'+prompt_type+'/output_'+date+'_'+time+'.json', 'w') as f:\n",
    "        json.dump(result, f, indent=4)"
   ]
  },
  {
   "cell_type": "code",
   "execution_count": 29,
   "metadata": {},
   "outputs": [],
   "source": [
    "model_name = 'gpt-4'\n",
    "\n",
    "model = ChatOpenAI(\n",
    "    model=model_name,\n",
    "    api_key=open('api.txt', 'r').read(),\n",
    "    temperature=0\n",
    ")"
   ]
  },
  {
   "cell_type": "markdown",
   "metadata": {},
   "source": [
    "## Summary Length"
   ]
  },
  {
   "cell_type": "code",
   "execution_count": null,
   "metadata": {},
   "outputs": [],
   "source": [
    "sample_name = \"suggestion_sample.json\"\n",
    "with open('./data/json/last_row/'+sample_name) as f:\n",
    "    json_sample = json.load(f)"
   ]
  },
  {
   "cell_type": "code",
   "execution_count": 19,
   "metadata": {},
   "outputs": [],
   "source": [
    "minChars = 39\n",
    "maxChars = 70\n",
    "\n",
    "init_prompt_name = 'initPrompt_V1.3.0.json'\n",
    "init_prompt = load_prompt('prompts/init/'+init_prompt_name)\n",
    "\n",
    "bestPractice_prompt_name = 'summaryLengthPrompt_V2.3.0.json'\n",
    "bestPractice_prompt = load_prompt('prompts/summary/'+bestPractice_prompt_name).format(min=minChars, max=maxChars)\n",
    "\n",
    "format_prompt_name = 'summaryLengthFormatPrompt_V1.0.0.json'\n",
    "format_prompt = load_prompt('prompts/summary/'+format_prompt_name)"
   ]
  },
  {
   "cell_type": "code",
   "execution_count": 20,
   "metadata": {},
   "outputs": [],
   "source": [
    "chain1 = init_prompt | model | StrOutputParser()\n",
    "chain2 = (\n",
    "    {\"revised_ticket\": chain1}\n",
    "    | format_prompt\n",
    "    | model\n",
    "    | JsonOutputParser()\n",
    ")"
   ]
  },
  {
   "cell_type": "code",
   "execution_count": 22,
   "metadata": {},
   "outputs": [
    {
     "data": {
      "text/plain": [
       "{'summary_old': 'Project Summaries',\n",
       " 'summary_new': 'Single page display of project components and their issue statuses'}"
      ]
     },
     "execution_count": 22,
     "metadata": {},
     "output_type": "execute_result"
    }
   ],
   "source": [
    "output = await chain2.ainvoke({\"role\":\"Software Engineer\", \"best_practice\":bestPractice_prompt, \"ticket\":json_sample})\n",
    "output"
   ]
  },
  {
   "cell_type": "code",
   "execution_count": 23,
   "metadata": {},
   "outputs": [
    {
     "name": "stdout",
     "output_type": "stream",
     "text": [
      "66\n"
     ]
    }
   ],
   "source": [
    "print(len(output['summary_new']))\n",
    "reruns = 0"
   ]
  },
  {
   "cell_type": "code",
   "execution_count": 26,
   "metadata": {},
   "outputs": [
    {
     "name": "stdout",
     "output_type": "stream",
     "text": [
      "Summary length is within the expected range.\n"
     ]
    }
   ],
   "source": [
    "if((len(output['summary_new']) > maxChars) | (len(output['summary_new']) < minChars)):\n",
    "    print('Summary length is not within the expected range. Start a rerun.')\n",
    "    reruns += 1\n",
    "    output = await chain2.ainvoke({\"role\":\"Software Engineer\", \"best_practice\":bestPractice_prompt, \"ticket\":json_sample})\n",
    "else:\n",
    "    print('Summary length is within the expected range.')"
   ]
  },
  {
   "cell_type": "code",
   "execution_count": 25,
   "metadata": {},
   "outputs": [],
   "source": [
    "save_result(output, 'summary', model_name, init_prompt_name, bestPractice_prompt_name, format_prompt_name, 'JsonOutputParser', sample_name, reruns)"
   ]
  },
  {
   "cell_type": "markdown",
   "metadata": {},
   "source": [
    "## Description Completness"
   ]
  },
  {
   "cell_type": "code",
   "execution_count": null,
   "metadata": {},
   "outputs": [],
   "source": [
    "sample_name = \"suggestion_sample.json\"\n",
    "with open('./data/json/last_row/'+sample_name) as f:\n",
    "    json_sample = json.load(f)"
   ]
  },
  {
   "cell_type": "code",
   "execution_count": 15,
   "metadata": {},
   "outputs": [],
   "source": [
    "init_prompt_name = 'initPrompt_V1.3.0.json'\n",
    "init_prompt = load_prompt('prompts/init/'+init_prompt_name)\n",
    "\n",
    "bestPractice_prompt_name = 'descriptionCompletnessPrompt_V1.0.0.json'\n",
    "bestPractice_prompt = load_prompt('prompts/description/'+bestPractice_prompt_name).format()\n",
    "\n",
    "format_prompt_name = 'descriptionCompletnessFormatPrompt_V1.0.0.json'\n",
    "format_prompt = load_prompt('prompts/description/'+format_prompt_name)"
   ]
  },
  {
   "cell_type": "code",
   "execution_count": null,
   "metadata": {},
   "outputs": [],
   "source": [
    "chain1 = init_prompt | model | StrOutputParser()\n",
    "chain2 = (\n",
    "    {\"revised_ticket\": chain1}\n",
    "    | format_prompt\n",
    "    | model\n",
    "    | JsonOutputParser()\n",
    ")"
   ]
  },
  {
   "cell_type": "code",
   "execution_count": null,
   "metadata": {},
   "outputs": [],
   "source": [
    "output = await chain2.ainvoke({\"role\":\"Software Engineer\", \"best_practice\":bestPractice_prompt, \"ticket\":json_sample})\n",
    "output"
   ]
  },
  {
   "cell_type": "code",
   "execution_count": 18,
   "metadata": {},
   "outputs": [],
   "source": [
    "save_result(output, 'description', model_name, init_prompt_name, bestPractice_prompt_name, format_prompt_name, 'JsonOutputParser', sample_name, 0)"
   ]
  },
  {
   "cell_type": "markdown",
   "metadata": {},
   "source": [
    "## Field Update"
   ]
  },
  {
   "cell_type": "markdown",
   "metadata": {},
   "source": [
    "maybe try Few-Shot here for better results??"
   ]
  },
  {
   "cell_type": "code",
   "execution_count": 76,
   "metadata": {},
   "outputs": [],
   "source": [
    "sample_name = \"suggestion_sample.json\"\n",
    "with open('./data/json/last_row/'+sample_name) as f:\n",
    "    json_sample = json.load(f)"
   ]
  },
  {
   "cell_type": "code",
   "execution_count": 77,
   "metadata": {},
   "outputs": [],
   "source": [
    "init_prompt_name = 'initPrompt_V1.3.0.json'\n",
    "init_prompt = load_prompt('prompts/init/'+init_prompt_name)\n",
    "\n",
    "bestPractice_prompt_name = 'updatePrompt_V1.16.0.json'\n",
    "bestPractice_prompt = load_prompt('prompts/update/'+bestPractice_prompt_name).format()\n",
    "\n",
    "format_prompt_name = 'updateFormatPrompt_V1.3.0.json'\n",
    "format_prompt = load_prompt('prompts/update/'+format_prompt_name)"
   ]
  },
  {
   "cell_type": "code",
   "execution_count": 78,
   "metadata": {},
   "outputs": [],
   "source": [
    "chain1 = init_prompt | model | StrOutputParser()\n",
    "chain2 = (\n",
    "    {\"revised_ticket\": chain1}\n",
    "    | format_prompt\n",
    "    | model\n",
    "    | JsonOutputParser()\n",
    ")"
   ]
  },
  {
   "cell_type": "code",
   "execution_count": 79,
   "metadata": {},
   "outputs": [],
   "source": [
    "output = await chain2.ainvoke({\"role\":\"Software Engineer\", \"best_practice\":bestPractice_prompt, \"ticket\":json_sample})"
   ]
  },
  {
   "cell_type": "code",
   "execution_count": 80,
   "metadata": {},
   "outputs": [],
   "source": [
    "save_result(output, 'update', model_name, init_prompt_name, bestPractice_prompt_name, format_prompt_name, 'JsonOutputParser', sample_name, 0)"
   ]
  },
  {
   "cell_type": "markdown",
   "metadata": {},
   "source": [
    "## Toxic Speech Detection"
   ]
  },
  {
   "cell_type": "code",
   "execution_count": 60,
   "metadata": {},
   "outputs": [],
   "source": [
    "sample_name = \"last_row_toxic.json\"\n",
    "with open('./data/json/last_row/'+sample_name) as f:\n",
    "    json_sample = json.load(f)"
   ]
  },
  {
   "cell_type": "code",
   "execution_count": 61,
   "metadata": {},
   "outputs": [],
   "source": [
    "init_prompt_name = 'initPrompt_V1.3.0.json'\n",
    "init_prompt = load_prompt('prompts/init/'+init_prompt_name)\n",
    "\n",
    "bestPractice_prompt_name = 'toxicSpeechPrompt_V1.5.0.json'\n",
    "bestPractice_prompt = load_prompt('prompts/toxicSpeech/'+bestPractice_prompt_name).format()\n",
    "\n",
    "format_prompt_name = 'toxicSpeechFormatPrompt_V1.2.0.json'\n",
    "format_prompt = load_prompt('prompts/toxicSpeech/'+format_prompt_name)"
   ]
  },
  {
   "cell_type": "code",
   "execution_count": 62,
   "metadata": {},
   "outputs": [],
   "source": [
    "chain1 = init_prompt | model | StrOutputParser()\n",
    "chain2 = (\n",
    "    {\"revised_ticket\": chain1}\n",
    "    | format_prompt\n",
    "    | model\n",
    "    | JsonOutputParser()\n",
    ")"
   ]
  },
  {
   "cell_type": "code",
   "execution_count": 63,
   "metadata": {},
   "outputs": [
    {
     "data": {
      "text/plain": [
       "{'comment': 'Issue was fixed in latest Sourcetree versions you idiot. Use your brain and use Sourcetree 3.4.5 >',\n",
       " 'author': 'Oleksandr Naumenko',\n",
       " 'datetime': '2021-11-18 15:12:59.861000+00:00',\n",
       " 'recommendation': 'The issue has been resolved in the latest Sourcetree versions. I recommend using Sourcetree 3.4.5 or later.',\n",
       " 'reason': 'The comment contains toxic speech and should be updated to maintain a respectful and professional tone. The author should avoid using derogatory terms and instead focus on providing helpful information.'}"
      ]
     },
     "execution_count": 63,
     "metadata": {},
     "output_type": "execute_result"
    }
   ],
   "source": [
    "output = await chain2.ainvoke({\"role\":\"Content Moderator\", \"best_practice\":bestPractice_prompt, \"ticket\":json_sample})\n",
    "output"
   ]
  },
  {
   "cell_type": "code",
   "execution_count": 65,
   "metadata": {},
   "outputs": [],
   "source": [
    "save_result(output, 'toxicSpeech', model_name, init_prompt_name, bestPractice_prompt_name, format_prompt_name, 'JsonOutputParser', sample_name, 0)"
   ]
  },
  {
   "cell_type": "markdown",
   "metadata": {},
   "source": [
    "## Bug Report Structure"
   ]
  },
  {
   "cell_type": "code",
   "execution_count": 48,
   "metadata": {},
   "outputs": [],
   "source": [
    "sample_name = \"desc_struc_last_row.json\"\n",
    "with open('./data/json/last_row/'+sample_name) as f:\n",
    "    json_sample = json.load(f)"
   ]
  },
  {
   "cell_type": "code",
   "execution_count": 49,
   "metadata": {},
   "outputs": [],
   "source": [
    "bugReportStrucutre_prompt_name = 'bugReportStructurePrompt_V2.3.0.json'\n",
    "bugReportStrucutre_prompt = load_prompt('prompts/bugReportStructure/'+bugReportStrucutre_prompt_name)"
   ]
  },
  {
   "cell_type": "code",
   "execution_count": 50,
   "metadata": {},
   "outputs": [],
   "source": [
    "chain = bugReportStrucutre_prompt | model | StrOutputParser()"
   ]
  },
  {
   "cell_type": "code",
   "execution_count": 51,
   "metadata": {},
   "outputs": [],
   "source": [
    "output = chain.invoke({\"bug_report\":json_sample})"
   ]
  },
  {
   "cell_type": "markdown",
   "metadata": {},
   "source": [
    "Why data fromdescription field is taken into account here?"
   ]
  },
  {
   "cell_type": "code",
   "execution_count": 53,
   "metadata": {},
   "outputs": [
    {
     "name": "stdout",
     "output_type": "stream",
     "text": [
      "1. Overview\n",
      "It is not possible to push if force push flag is activated. Nothing happens afterwards, there is an exception in log.\n",
      "\n",
      "2. Steps to reproduce\n",
      "- Activate force push flag\n",
      "- Attempt to push\n",
      "\n",
      "3. Actual result\n",
      "Nothing happens, there is an exception in log.\n",
      "\n",
      "4. Expected result\n",
      "Push should be successful even with force push flag activated.\n",
      "\n",
      "5. Stack Traces\n",
      "ERROR [2021-04-12 10:15:45,362] [31] [SourceTree.ViewModel.RepoDialogContainer] [Log] - Wątkiem wywołującym musi być STA, ponieważ wiele składników interfejsów użytkownika go wymaga.\n",
      "System.InvalidOperationException: Wątkiem wywołującym musi być STA, ponieważ wiele składników interfejsów użytkownika go wymaga.\n",
      "w System.Windows.Input.InputManager..ctor()\n",
      "w System.Windows.Input.InputManager.GetCurrentInputManagerImpl()\n",
      "w System.Windows.Input.KeyboardNavigation..ctor()\n",
      "w System.Windows.FrameworkElement.FrameworkServices..ctor()\n",
      "w System.Windows.FrameworkElement.EnsureFrameworkServices()\n",
      "w System.Windows.FrameworkElement..ctor()\n",
      "w System.Windows.Controls.Control..ctor()\n",
      "w System.Windows.Window..ctor()\n",
      "w SourceTree.UI.Theme.Wpf.Controls.PerMonitorDpiWindow..ctor()\n",
      "w SourceTree.View.Dialogs.NotificationDialogWindow..ctor(String title, String message, Object contentControl, RelayCommand contentCommand, String contentCommandLabel, String customActionLabel, String customCancelLabel, Boolean isError, RelayCommand suppressionCommand, VistaTaskDialogIcon icon)\n",
      "w SourceTree.Notifications.NotificationsManager.ShowNotificationDialog[T](String title, String message, Tuple`2 customAction, String cancelLabel, String suppressionSetting, Action`1 suppressionChangedAction, Object contentControl, String contentCommandLabel, Action contentAction)\n",
      "w SourceTree.Notifications.NotificationsManager.ShowNotificationDialog[T](String title, String message, String details, Tuple`2 customAction, String cancelLabel, String suppressionSetting, Action`1 suppressionChangedAction)\n",
      "w SourceTree.Notifications.NotificationsManager.ShowNotificationDialog[T](String title, String message, String details, Tuple`2 customAction, String cancelLabel)\n",
      "w SourceTree.Notifications.NotificationsManager.ShowNotificationDialogWithYesConfirmation(String title, String message, String details)\n",
      "w SourceTree.Notifications.NotificationsManager.ShowNotificationDialogWithYesConfirmation(String title, String message)\n",
      "w SourceTree.ViewModel.Git.GitPushDialogViewModel.FinalisePush()\n",
      "w SourceTree.ViewModel.Git.GitPushDialogViewModel.SubmoduleDialogCompleted(AbstractDialogViewModel repoDlg, Int32 returnCode)\n",
      "w SourceTree.ViewModel.AbstractDialogViewModel.Finish(Int32 returnCode)\n",
      "w SourceTree.ViewModel.SubmoduleCheckDialogViewModel.<RefreshSubmodules>d__46.MoveNext()\n",
      "--- Koniec śladu stosu z poprzedniej lokalizacji, w której wystąpił wyjątek ---\n",
      "w System.Runtime.ExceptionServices.ExceptionDispatchInfo.Throw()\n",
      "w System.Runtime.CompilerServices.TaskAwaiter.HandleNonSuccessAndDebuggerNotification(Task task)\n",
      "w System.Runtime.CompilerServices.TaskAwaiter.GetResult()\n",
      "w SourceTree.ViewModel.RepoDialogContainer.<>c__DisplayClass9_0.<<PushDialog>b__0>d.MoveNext()\n",
      "\n",
      "6. Build date and hardware\n",
      "!not provided\n",
      "\n",
      "7. Additional information\n",
      "- Similar issue: SRCTREEWIN-13100\n",
      "- Question from Olga Rudenko: \"Do you have submodules in your repository?\"\n"
     ]
    }
   ],
   "source": [
    "output = output.replace('\\\\n', '\\n').replace('\\\\t', '\\t')\n",
    "print(output)\n"
   ]
  },
  {
   "cell_type": "code",
   "execution_count": 54,
   "metadata": {},
   "outputs": [],
   "source": [
    "save_result(output, 'bugReportStructure', model_name, '-', bugReportStrucutre_prompt_name, '-', 'StrOutputParser', sample_name, 0)"
   ]
  },
  {
   "cell_type": "markdown",
   "metadata": {},
   "source": [
    "## Internationalization"
   ]
  },
  {
   "cell_type": "code",
   "execution_count": 30,
   "metadata": {},
   "outputs": [],
   "source": [
    "sample_name = \"last_row_german.json\"\n",
    "with open('./data/json/last_row/'+sample_name) as f:\n",
    "    json_sample = json.load(f)"
   ]
  },
  {
   "cell_type": "code",
   "execution_count": 35,
   "metadata": {},
   "outputs": [],
   "source": [
    "init_prompt_name = 'initPrompt_V1.3.0.json'\n",
    "init_prompt = load_prompt('prompts/init/'+init_prompt_name)\n",
    "\n",
    "bestPractice_prompt_name = 'internationalizationPrompt_V1.5.0.json'\n",
    "bestPractice_prompt = load_prompt('prompts/internationalization/'+bestPractice_prompt_name).format()\n",
    "\n",
    "format_prompt_name = 'internationalizationFormatPrompt_V1.2.0.json'\n",
    "format_prompt = load_prompt('prompts/internationalization/'+format_prompt_name)"
   ]
  },
  {
   "cell_type": "code",
   "execution_count": 36,
   "metadata": {},
   "outputs": [],
   "source": [
    "chain1 = init_prompt | model | StrOutputParser()\n",
    "\n",
    "chain2 = (\n",
    "    {\"revised_ticket\":chain1}\n",
    "    | format_prompt\n",
    "    | model\n",
    "    | JsonOutputParser()\n",
    "    )"
   ]
  },
  {
   "cell_type": "code",
   "execution_count": 37,
   "metadata": {},
   "outputs": [
    {
     "data": {
      "text/plain": [
       "{'Summary': 'Sourcetree crashes',\n",
       " 'Description': 'The Sourcetree crashes every time I open it, I have uninstalled and installed several times',\n",
       " 'VersionsAffected': '3.4.4',\n",
       " 'IssueType': 'Bug',\n",
       " 'Project': 'Sourcetree for Windows',\n",
       " 'Components': 'Git',\n",
       " 'CreatedDate': '2021-09-13T05:48:08.000+0000',\n",
       " 'ResolvedDate': '2021-11-18T15:12:59.000+0000',\n",
       " 'Status': 'Closed',\n",
       " 'Priority': 'Low',\n",
       " 'Creator': 'Shefali Bhandary',\n",
       " 'Reporter': 'Shefali Bhandary',\n",
       " 'Resolution': 'Cannot Reproduce',\n",
       " 'IssueLinks': None,\n",
       " 'Labels': None,\n",
       " 'VersionsFixed': None,\n",
       " 'Assignee': None,\n",
       " 'TimeSpent': None,\n",
       " 'Comments': [{'Author': 'Vipin Yadav',\n",
       "   'Created': '2021-09-13 06:12:40.315000+00:00',\n",
       "   'Comment': 'Please try to install latest release of sourcetree 3.4.6 and let us know if you are still facing same issue.'},\n",
       "  {'Author': 'Shefali Bhandary',\n",
       "   'Created': '2021-09-13 06:56:53.753000+00:00',\n",
       "   'Comment': 'In our software portal on 3.2.6 is available'},\n",
       "  {'Author': 'Vipin Yadav',\n",
       "   'Created': '2021-09-13 07:15:30.197000+00:00',\n",
       "   'Comment': '3.2.6 is very old (was released in July 2019). Latest is 3.4.6 so try to use the current release 3.4.6'},\n",
       "  {'Author': 'Oleksandr Naumenko',\n",
       "   'Created': '2021-11-18 15:12:59.861000+00:00',\n",
       "   'Comment': 'Issue was fixed in latest Sourcetree versions. Please use Sourcetree 3.4.5 > '}]}"
      ]
     },
     "execution_count": 37,
     "metadata": {},
     "output_type": "execute_result"
    }
   ],
   "source": [
    "output = await chain2.ainvoke({\"role\":\"Software Engineer\", \"best_practice\":bestPractice_prompt, \"ticket\":json_sample})\n",
    "output"
   ]
  },
  {
   "cell_type": "code",
   "execution_count": 38,
   "metadata": {},
   "outputs": [],
   "source": [
    "save_result(output, 'internationalization', model_name, init_prompt_name, bestPractice_prompt_name, format_prompt_name, 'JsonOutputParser', sample_name, 0)"
   ]
  }
 ],
 "metadata": {
  "kernelspec": {
   "display_name": "venv_master",
   "language": "python",
   "name": "python3"
  },
  "language_info": {
   "codemirror_mode": {
    "name": "ipython",
    "version": 3
   },
   "file_extension": ".py",
   "mimetype": "text/x-python",
   "name": "python",
   "nbconvert_exporter": "python",
   "pygments_lexer": "ipython3",
   "version": "3.11.4"
  }
 },
 "nbformat": 4,
 "nbformat_minor": 2
}
