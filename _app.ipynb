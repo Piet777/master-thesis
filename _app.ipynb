{
 "cells": [
  {
   "cell_type": "markdown",
   "metadata": {},
   "source": [
    "# With ChatModel"
   ]
  },
  {
   "cell_type": "code",
   "execution_count": 10,
   "metadata": {},
   "outputs": [],
   "source": [
    "import json\n",
    "\n",
    "from datetime import datetime\n",
    "\n",
    "from langchain.chat_models import ChatOpenAI\n",
    "from langchain.prompts import load_prompt\n",
    "from langchain.schema import StrOutputParser"
   ]
  },
  {
   "cell_type": "code",
   "execution_count": 11,
   "metadata": {},
   "outputs": [],
   "source": [
    "def save_result(output, prompt_type, model, init, best_practice):\n",
    "    now = datetime.now()\n",
    "    date = now.strftime(\"%Y-%m-%d\")\n",
    "    time = now.strftime(\"%H:%M:%S\")\n",
    "\n",
    "    result = {}\n",
    "    result['model'] = model\n",
    "    result['creation_timestamp'] = date + ' ' + time\n",
    "    result['prompts'] = {\n",
    "        'init_uri': init,\n",
    "        'best_practice_uri': best_practice}\n",
    "    result['output'] = output\n",
    "\n",
    "    with open('results/'+prompt_type+'/output_'+date+'_'+time+'.json', 'w') as f:\n",
    "        json.dump(result, f, indent=4)"
   ]
  },
  {
   "cell_type": "code",
   "execution_count": 12,
   "metadata": {},
   "outputs": [],
   "source": [
    "model_name = 'gpt-4'\n",
    "\n",
    "model = ChatOpenAI(\n",
    "    model=model_name,\n",
    "    api_key=open('api.txt', 'r').read(),\n",
    "    temperature=0\n",
    ")"
   ]
  },
  {
   "cell_type": "markdown",
   "metadata": {},
   "source": [
    "## Summary Length"
   ]
  },
  {
   "cell_type": "code",
   "execution_count": 7,
   "metadata": {},
   "outputs": [],
   "source": [
    "with open('./data/json/last_row.json') as f:\n",
    "    json_sample = json.load(f)"
   ]
  },
  {
   "cell_type": "code",
   "execution_count": 8,
   "metadata": {},
   "outputs": [],
   "source": [
    "init_prompt_name = 'initPrompt_V1.1.0.json'\n",
    "init_prompt = load_prompt('prompts/init/'+init_prompt_name)\n",
    "\n",
    "sumLen_prompt_name = 'summaryLengthPrompt_V1.0.2.json'\n",
    "sumLen_prompt = load_prompt('prompts/summary/'+sumLen_prompt_name).format(min= 6, max= 10)"
   ]
  },
  {
   "cell_type": "code",
   "execution_count": 9,
   "metadata": {},
   "outputs": [
    {
     "name": "stdout",
     "output_type": "stream",
     "text": [
      " ### Instruction ###\n",
      "Act as a professional Software Engineer working with issue trackers like Jira or Azure DevOps.\n",
      "Working with these issue trackers, you must consider multiple text-based best practices to increase understandability and reduce time.\n",
      "Revise a ticket for compliance with these best practices and offer recommendations if needed.\n",
      "The best practice to check is: \n",
      "\n",
      "Best Practice: Summary Length\n",
      "Your Task is to check if the ticket summary is between 6 and 10 words.\n",
      "If the word count is in this range, return the original summary.\n",
      "Otherwise, recommend a new summary for the ticket.\n",
      "Please return only the summary string and nothing else.\n",
      "\n",
      "\n",
      "### Context ###\n",
      "A ticket consists of multiple fields. You are provided with the fields and a short description for each field.\n",
      "Assignee: The person responsible to resolve the issue.\n",
      "Comments: Community discussion on the issue, including author, timestamp and content.\n",
      "Components: Project components to which the issue belongs.\n",
      "CreatedDate: The time and date the issue was created.\n",
      "Creator: The person who created the issue.\n",
      "Description: A detailed description of the issue.\n",
      "IssueLinks: A list of links to related issues.\n",
      "IssueType: The issue's purpose within the organization.\n",
      "Labels: Labels to which this issue relates.\n",
      "Priority: The issue importance in relation to other issues.\n",
      "Project: The parent project to which the issue belongs.\n",
      "Reporter: The person who found/reported the issue.\n",
      "Resolution: A record of the issue's resolution, once resolved or closed.\n",
      "ResolvedDate: The time and date the issue was resolved.\n",
      "Status: The stage the issue is currently at in its lifecycle.\n",
      "Summary: A brief one-line summary of the issue.\n",
      "TimeSpent: Amount of time spent working on the issue.\n",
      "VersionsAffected: The versions of the project affected by the issue.\n",
      "VersionsFixed: Project versions in which the issue was (or will be) fixed.\n",
      "\n",
      "You will receive this ticket from an issue tracker in JSON format.\n",
      "Ticket: {'Summary': 'Sourcetree crashes', 'Description': 'Source tree crashes everytime i open , I have uninstalled and installed many times', 'VersionsAffected': '3.4.4', 'IssueType': 'Bug', 'Project': 'Sourcetree for Windows', 'Components': 'Git', 'CreatedDate': '2021-09-13T05:48:08.000+0000', 'ResolvedDate': '2021-11-18T15:12:59.000+0000', 'Status': 'Closed', 'Priority': 'Low', 'Creator': 'Shefali Bhandary', 'Reporter': 'Shefali Bhandary', 'Resolution': 'Cannot Reproduce', 'IssueLinks': None, 'Labels': None, 'VersionsFixed': None, 'Assignee': None, 'TimeSpent': None, 'Comments': [{'Author': 'Vipin Yadav', 'Created': '2021-09-13 06:12:40.315000+00:00', 'Comment': 'Please try to install latest release of sourcetree 3.4.6 and let us know if you are still facing same issue.'}, {'Author': 'Shefali Bhandary', 'Created': '2021-09-13 06:56:53.753000+00:00', 'Comment': 'In our software portal on 3.2.6 is available'}, {'Author': 'Vipin Yadav', 'Created': '2021-09-13 07:15:30.197000+00:00', 'Comment': '3.2.6 is very old (was released in July 2019). Latest is 3.4.6 so try to use the current release 3.4.6'}, {'Author': 'Oleksandr Naumenko', 'Created': '2021-11-18 15:12:59.861000+00:00', 'Comment': 'Issue was fixed in latest Sourcetree versions. Please use Sourcetree 3.4.5 > '}]}\n",
      "\n"
     ]
    }
   ],
   "source": [
    "chain = init_prompt | model | StrOutputParser()\n",
    "print(init_prompt.format(best_practice= sumLen_prompt, ticket=json_sample))"
   ]
  },
  {
   "cell_type": "code",
   "execution_count": 10,
   "metadata": {},
   "outputs": [
    {
     "data": {
      "text/plain": [
       "'\"Sourcetree crashes upon opening\"'"
      ]
     },
     "execution_count": 10,
     "metadata": {},
     "output_type": "execute_result"
    }
   ],
   "source": [
    "output = chain.invoke({\"best_practice\": sumLen_prompt,\"ticket\": json_sample})\n",
    "output"
   ]
  },
  {
   "cell_type": "code",
   "execution_count": 11,
   "metadata": {},
   "outputs": [],
   "source": [
    "save_result(output, 'summary', model_name, init_prompt_name, sumLen_prompt_name)\n"
   ]
  },
  {
   "cell_type": "code",
   "execution_count": 9,
   "metadata": {},
   "outputs": [],
   "source": [
    "# # maybe usefull for later\n",
    "# def run(model_name, init_prompt_name, sumLen_prompt_name):\n",
    "#     model = ChatOpenAI(\n",
    "#         model=model_name,\n",
    "#         api_key=open('api.txt', 'r').read(),\n",
    "#         temperature=0\n",
    "#     )\n",
    "#     with open('./data/json/last_row.json') as f:\n",
    "#         json_sample = json.load(f)\n",
    "\n",
    "#     init_prompt = load_prompt('prompts/init/'+init_prompt_name)\n",
    "#     sumLen_prompt = load_prompt('prompts/summary/'+sumLen_prompt_name).format(min= 6, max= 10)\n",
    "    \n",
    "#     chain = init_prompt | model | StrOutputParser()\n",
    "\n",
    "#     output = chain.invoke({\"best_practice\": sumLen_prompt,\"ticket\": json_sample})\n",
    "\n",
    "#     save_result(output, 'summary', model_name, init_prompt_name, sumLen_prompt_name)  \n",
    "\n",
    "# run('gpt-4', 'initPrompt_V1.0.0.json', 'summaryLengthPrompt_V1.0.1.json')  "
   ]
  },
  {
   "cell_type": "markdown",
   "metadata": {},
   "source": [
    "## Description Length"
   ]
  },
  {
   "cell_type": "code",
   "execution_count": 23,
   "metadata": {},
   "outputs": [],
   "source": [
    "with open('./data/json/last_row.json') as f:\n",
    "    json_sample = json.load(f)"
   ]
  },
  {
   "cell_type": "code",
   "execution_count": 28,
   "metadata": {},
   "outputs": [],
   "source": [
    "init_prompt_name = 'initPrompt_V1.1.0.json'\n",
    "init_prompt = load_prompt('prompts/init/'+init_prompt_name)\n",
    "\n",
    "descLen_prompt_name = 'descriptionLengthPrompt_V1.0.0.json'\n",
    "descLen_prompt = load_prompt('prompts/description/'+descLen_prompt_name).format(min= 29, max= 111)\n",
    "\n",
    "chain = init_prompt | model | StrOutputParser()"
   ]
  },
  {
   "cell_type": "code",
   "execution_count": 29,
   "metadata": {},
   "outputs": [
    {
     "data": {
      "text/plain": [
       "\"'Source tree crashes every time I open it. I have uninstalled and reinstalled the software multiple times but the issue persists. This problem is affecting my work as I am unable to access my projects. I am currently using version 3.4.4 of Sourcetree for Windows. I have not been able to find a solution to this problem online or in the Sourcetree community forums. I would appreciate any assistance or suggestions on how to resolve this issue.'\""
      ]
     },
     "execution_count": 29,
     "metadata": {},
     "output_type": "execute_result"
    }
   ],
   "source": [
    "output = chain.invoke({\"best_practice\": descLen_prompt, \"ticket\": json_sample})\n",
    "output"
   ]
  },
  {
   "cell_type": "code",
   "execution_count": 30,
   "metadata": {},
   "outputs": [],
   "source": [
    "save_result(output, 'description', model_name, init_prompt_name, descLen_prompt_name)"
   ]
  },
  {
   "cell_type": "markdown",
   "metadata": {},
   "source": [
    "## Field Update"
   ]
  },
  {
   "cell_type": "code",
   "execution_count": 18,
   "metadata": {},
   "outputs": [],
   "source": [
    "with open('./data/json/last_row.json') as f:\n",
    "    json_sample = json.load(f)"
   ]
  },
  {
   "cell_type": "code",
   "execution_count": 19,
   "metadata": {},
   "outputs": [],
   "source": [
    "init_prompt_name = 'initPrompt_V1.1.0.json'\n",
    "init_prompt = load_prompt('prompts/init/'+init_prompt_name)\n",
    "\n",
    "update_prompt_name = 'updatePrompt_V1.2.0.json'\n",
    "update_prompt = load_prompt('prompts/update/'+update_prompt_name).format()\n",
    "\n",
    "chain = init_prompt | model | StrOutputParser()"
   ]
  },
  {
   "cell_type": "code",
   "execution_count": 20,
   "metadata": {},
   "outputs": [
    {
     "data": {
      "text/plain": [
       "\"Changes Made:\\n1. Updated 'VersionsFixed' field from None to '3.4.5' based on the comment by Oleksandr Naumenko.\\n2. Updated 'Assignee' field from None to 'Vipin Yadav' as he was actively involved in resolving the issue.\\n3. Updated 'TimeSpent' field from None to '2 months' based on the 'CreatedDate' and 'ResolvedDate' fields.\\n4. Added 'Software Update' to 'Labels' field as the issue was resolved by updating the software.\\n\\nRecommendations:\\n1. Always update the 'Assignee' field to reflect who is responsible for the issue.\\n2. Update the 'TimeSpent' field to reflect the time taken to resolve the issue.\\n3. Update the 'VersionsFixed' field once the issue is resolved in a particular version.\\n4. Use the 'Labels' field to categorize the issue for better tracking and understanding.\""
      ]
     },
     "execution_count": 20,
     "metadata": {},
     "output_type": "execute_result"
    }
   ],
   "source": [
    "output = chain.invoke({\"best_practice\": update_prompt,\"ticket\": json_sample})\n",
    "output"
   ]
  },
  {
   "cell_type": "code",
   "execution_count": 21,
   "metadata": {},
   "outputs": [],
   "source": [
    "save_result(output, 'update', model_name, init_prompt_name, update_prompt_name)"
   ]
  }
 ],
 "metadata": {
  "kernelspec": {
   "display_name": "venv_master",
   "language": "python",
   "name": "python3"
  },
  "language_info": {
   "codemirror_mode": {
    "name": "ipython",
    "version": 3
   },
   "file_extension": ".py",
   "mimetype": "text/x-python",
   "name": "python",
   "nbconvert_exporter": "python",
   "pygments_lexer": "ipython3",
   "version": "3.11.4"
  }
 },
 "nbformat": 4,
 "nbformat_minor": 2
}
