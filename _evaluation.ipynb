{
 "cells": [
  {
   "cell_type": "markdown",
   "metadata": {},
   "source": [
    "# Evaluation"
   ]
  },
  {
   "cell_type": "code",
   "execution_count": 1,
   "metadata": {},
   "outputs": [],
   "source": [
    "import json\n",
    "import os\n",
    "\n",
    "import numpy as np\n",
    "import pandas as pd\n",
    "pd.set_option('display.max_colwidth', None)\n",
    "\n",
    "from sklearn import metrics\n",
    "from rouge import Rouge\n",
    "\n",
    "import matplotlib.pyplot as plt"
   ]
  },
  {
   "cell_type": "markdown",
   "metadata": {},
   "source": [
    "## Summary Length"
   ]
  },
  {
   "cell_type": "code",
   "execution_count": 2,
   "metadata": {},
   "outputs": [],
   "source": [
    "def getDescriptionAndSummary(uri):\n",
    "    with open(uri) as f:\n",
    "        ticket = json.load(f)\n",
    "\n",
    "    desc = \"\"\n",
    "    sum = \"\"\n",
    "    \n",
    "    if ticket['Description'] is not None:\n",
    "        desc = ticket['Description']\n",
    "    \n",
    "    if ticket['Summary'] is not None:\n",
    "        sum = ticket['Summary']\n",
    "    \n",
    "    return desc, sum    "
   ]
  },
  {
   "cell_type": "markdown",
   "metadata": {},
   "source": [
    "### 0-Shot"
   ]
  },
  {
   "cell_type": "code",
   "execution_count": 3,
   "metadata": {},
   "outputs": [],
   "source": [
    "directory = \"./evaluation/summary/gpt-4-0125-preview/0Shot/\"\n",
    "\n",
    "evalDF = pd.DataFrame(columns=[\"jira\", \"ticketId\", \"evolution\", \"reruns\", \"ticket_uri\", \"output_uri\", \"violation_actual\", \"violation_predicted\", \"reference\", \"summary_original\", \"summary_old\", \"length_old\", \"summary_new\", \"length_new\", \"correction_in_range\"])\n",
    "\n",
    "for file in os.listdir(directory):\n",
    "    filename = os.fsdecode(file)\n",
    "    outputUri = directory + filename\n",
    "\n",
    "    if not filename.endswith(\".json\"):\n",
    "        continue\n",
    "\n",
    "    with open(outputUri) as f:\n",
    "        result = json.load(f)\n",
    "\n",
    "    if (len(result[\"output\"][\"summary_new\"]) <= 70) & (len(result[\"output\"][\"summary_new\"]) >= 39):\n",
    "        in_range = \"TRUE\"\n",
    "    else:\n",
    "        in_range = \"FALSE\"\n",
    "\n",
    "    desc, summary_org = getDescriptionAndSummary(result[\"input_data\"][\"ticket_uri\"])\n",
    "\n",
    "    new_row = {\n",
    "        'jira': result[\"input_data\"][\"jira\"], \n",
    "        'ticketId': result[\"input_data\"][\"id\"], \n",
    "        'evolution': result[\"input_data\"][\"evolution\"], \n",
    "        'reruns': result[\"reruns\"],\n",
    "        'ticket_uri': result[\"input_data\"][\"ticket_uri\"],\n",
    "        'output_uri': outputUri, \n",
    "        'violation_actual': result[\"violation_actual\"], \n",
    "        'violation_predicted': result[\"output\"][\"violation_predicted\"],\n",
    "        'reference': summary_org + \" : \" + desc,\n",
    "        'summary_original': summary_org,\n",
    "        'summary_old': result[\"output\"][\"summary_old\"],\n",
    "        'length_old': len(result[\"output\"][\"summary_old\"]), \n",
    "        'summary_new': result[\"output\"][\"summary_new\"],\n",
    "        'length_new': len(result[\"output\"][\"summary_new\"]), \n",
    "        'correction_in_range': in_range\n",
    "        }\n",
    "\n",
    "    evalDF.loc[len(evalDF)]=new_row\n",
    "\n",
    "# Save data to csv\n",
    "evalDF.to_csv(directory + \"evaluatedSummarys.csv\", index=False)"
   ]
  },
  {
   "cell_type": "markdown",
   "metadata": {},
   "source": [
    "#### Detection"
   ]
  },
  {
   "cell_type": "code",
   "execution_count": 6,
   "metadata": {},
   "outputs": [],
   "source": [
    "actual = np.array([])\n",
    "predicted = np.array([])\n",
    "\n",
    "evalDF_runs = evalDF[evalDF[\"reruns\"] <= 2]\n",
    "\n",
    "for index, row in evalDF_runs.iterrows():\n",
    "\n",
    "    actual = np.append(actual, row[\"violation_actual\"])\n",
    "    predicted = np.append(predicted, row[\"violation_predicted\"])"
   ]
  },
  {
   "cell_type": "code",
   "execution_count": 7,
   "metadata": {},
   "outputs": [
    {
     "data": {
      "image/png": "[encoded data removed]",
      "text/plain": [
       "<Figure size 640x480 with 2 Axes>"
      ]
     },
     "metadata": {},
     "output_type": "display_data"
    }
   ],
   "source": [
    "accuracy = metrics.accuracy_score(actual, predicted)\n",
    "precision = metrics.precision_score(actual, predicted, pos_label=\"TRUE\")\n",
    "recall = metrics.recall_score(actual, predicted, pos_label=\"TRUE\")\n",
    "f05 = metrics.fbeta_score(actual, predicted, beta=0.5, pos_label=\"TRUE\")\n",
    "\n",
    "confusion_matrix = metrics.confusion_matrix(actual, predicted, labels=[\"TRUE\", \"FALSE\"])\n",
    "cm_display = metrics.ConfusionMatrixDisplay(confusion_matrix = confusion_matrix, display_labels = [\"TRUE\", \"FALSE\"])\n",
    "\n",
    "cm_display.plot()\n",
    "plt.show()\n",
    "\n",
    "## Oben Recjts = TP (Verstoß wird erkannt und liegt vor)\n",
    "## Unten Links = TN (Verstoß wird nicht erkannt und liegt nicht vor)\n",
    "## Oben Links = FN (Verstoß wird nicht erkannt obwohl einer vorliegt)\n",
    "## Unten Rechts = FP (Verstoß wird erkannt obwohl keiner vorliegt)"
   ]
  },
  {
   "cell_type": "code",
   "execution_count": 8,
   "metadata": {},
   "outputs": [
    {
     "name": "stdout",
     "output_type": "stream",
     "text": [
      "Accuracy: 0.9358974358974359\n",
      "Precision: 0.9607843137254902\n",
      "Recall: 0.9423076923076923\n",
      "F.5: 0.95703125\n"
     ]
    }
   ],
   "source": [
    "print(\"Accuracy: \" + str(accuracy))\n",
    "print(\"Precision: \" + str(precision))\n",
    "print(\"Recall: \" + str(recall))\n",
    "print(\"F.5: \" + str(f05))"
   ]
  },
  {
   "cell_type": "markdown",
   "metadata": {},
   "source": [
    "#### Correction"
   ]
  },
  {
   "cell_type": "code",
   "execution_count": 9,
   "metadata": {},
   "outputs": [],
   "source": [
    "def computeROUGE(reference, predicted):\n",
    "    rouge = Rouge()\n",
    "    scores = [rouge.get_scores(new, old) for old, new in zip(reference, predicted)]\n",
    "\n",
    "    total_scores = {\"rouge-1\": {\"f\": 0, \"p\": 0, \"r\": 0}, \"rouge-2\": {\"f\": 0, \"p\": 0, \"r\": 0}, \"rouge-l\": {\"f\": 0, \"p\": 0, \"r\": 0}}\n",
    "\n",
    "    for score in scores:\n",
    "        for key in total_scores.keys():\n",
    "            total_scores[key]['f'] += score[0][key]['f']\n",
    "            total_scores[key]['p'] += score[0][key]['p']\n",
    "            total_scores[key]['r'] += score[0][key]['r']\n",
    "\n",
    "    for key in total_scores.keys():\n",
    "        total_scores[key]['f'] /= len(scores)\n",
    "        total_scores[key]['p'] /= len(scores)\n",
    "        total_scores[key]['r'] /= len(scores)\n",
    "    \n",
    "    return total_scores    "
   ]
  },
  {
   "cell_type": "code",
   "execution_count": 10,
   "metadata": {},
   "outputs": [
    {
     "name": "stdout",
     "output_type": "stream",
     "text": [
      "Success rate: 0.9615384615384616\n"
     ]
    }
   ],
   "source": [
    "# correctedTickets = evalDF_runs[evalDF_runs[\"violation_actual\"] == \"TRUE\"]\n",
    "successRate = evalDF_runs[\"correction_in_range\"].value_counts(normalize=True)[\"TRUE\"]\n",
    "print(\"Success rate: \" + str(successRate))"
   ]
  },
  {
   "cell_type": "code",
   "execution_count": 12,
   "metadata": {},
   "outputs": [
    {
     "name": "stdout",
     "output_type": "stream",
     "text": [
      "Average ROUGE scores (Desc):\n",
      "{'rouge-1': {'f': 0.2543979375064742, 'p': 0.5904590779590779, 'r': 0.20378983903460202}, 'rouge-2': {'f': 0.09700888482947286, 'p': 0.24323616198616194, 'r': 0.08253714973442045}, 'rouge-l': {'f': 0.21940516649419173, 'p': 0.5185925185925188, 'r': 0.1760726896441573}}\n"
     ]
    }
   ],
   "source": [
    "reference = np.array([])\n",
    "new_summary = np.array([])\n",
    "\n",
    "for index, row in evalDF.iterrows():\n",
    "\n",
    "    if row[\"violation_actual\"] == \"TRUE\":\n",
    "        reference = np.append(reference, row[\"reference\"])\n",
    "        new_summary = np.append(new_summary, row[\"summary_new\"])\n",
    "\n",
    "print(\"Average ROUGE scores (Desc):\")\n",
    "total_scores = computeROUGE(reference, new_summary)\n",
    "print(total_scores)"
   ]
  },
  {
   "cell_type": "code",
   "execution_count": 13,
   "metadata": {},
   "outputs": [
    {
     "name": "stdout",
     "output_type": "stream",
     "text": [
      "Average ROUGE scores (Sum):\n",
      "{'rouge-1': {'f': 0.38932689997240816, 'p': 0.4314229751729754, 'r': 0.408455684008643}, 'rouge-2': {'f': 0.15862334022595656, 'p': 0.17969067969067962, 'r': 0.16419023905627853}, 'rouge-l': {'f': 0.353436093002677, 'p': 0.3906207218707221, 'r': 0.37309678675033514}}\n"
     ]
    }
   ],
   "source": [
    "reference = np.array([])\n",
    "new_summary = np.array([])\n",
    "\n",
    "for index, row in evalDF.iterrows():\n",
    "\n",
    "    if row[\"violation_actual\"] == \"TRUE\":\n",
    "        reference = np.append(reference, row[\"summary_original\"])\n",
    "        new_summary = np.append(new_summary, row[\"summary_new\"])\n",
    "\n",
    "print(\"Average ROUGE scores (Sum):\")\n",
    "total_scores = computeROUGE(reference, new_summary)\n",
    "print(total_scores)"
   ]
  },
  {
   "cell_type": "markdown",
   "metadata": {},
   "source": [
    "### 0Shot CoT"
   ]
  },
  {
   "cell_type": "code",
   "execution_count": 14,
   "metadata": {},
   "outputs": [],
   "source": [
    "directory = \"./evaluation/summary/gpt-4-0125-preview/0ShotCoT/\"\n",
    "\n",
    "evalDF = pd.DataFrame(columns=[\"jira\", \"ticketId\", \"evolution\", \"reruns\", \"ticket_uri\", \"output_uri\", \"violation_actual\", \"violation_predicted\", \"reference\", \"summary_original\", \"summary_old\", \"length_old\", \"summary_new\", \"length_new\", \"correction_in_range\"])\n",
    "\n",
    "for file in os.listdir(directory):\n",
    "    filename = os.fsdecode(file)\n",
    "    outputUri = directory + filename\n",
    "\n",
    "    if not filename.endswith(\".json\"):\n",
    "        continue\n",
    "\n",
    "    with open(outputUri) as f:\n",
    "        result = json.load(f)\n",
    "\n",
    "    if (len(result[\"output\"][\"summary_new\"]) <= 70) & (len(result[\"output\"][\"summary_new\"]) >= 39):\n",
    "        in_range = \"TRUE\"\n",
    "    else:\n",
    "        in_range = \"FALSE\"\n",
    "\n",
    "    desc, summary_org = getDescriptionAndSummary(result[\"input_data\"][\"ticket_uri\"])\n",
    "\n",
    "    new_row = {\n",
    "        'jira': result[\"input_data\"][\"jira\"], \n",
    "        'ticketId': result[\"input_data\"][\"id\"], \n",
    "        'evolution': result[\"input_data\"][\"evolution\"], \n",
    "        'reruns': result[\"reruns\"],\n",
    "        'ticket_uri': result[\"input_data\"][\"ticket_uri\"],\n",
    "        'output_uri': outputUri, \n",
    "        'violation_actual': result[\"violation_actual\"], \n",
    "        'violation_predicted': result[\"output\"][\"violation_predicted\"],\n",
    "        'reference': summary_org + \" : \" + desc,\n",
    "        'summary_original': summary_org,\n",
    "        'summary_old': result[\"output\"][\"summary_old\"],\n",
    "        'length_old': len(result[\"output\"][\"summary_old\"]), \n",
    "        'summary_new': result[\"output\"][\"summary_new\"],\n",
    "        'length_new': len(result[\"output\"][\"summary_new\"]), \n",
    "        'correction_in_range': in_range\n",
    "        }\n",
    "\n",
    "    evalDF.loc[len(evalDF)]=new_row\n",
    "\n",
    "# Save data to csv\n",
    "evalDF.to_csv(directory + \"evaluatedSummarys.csv\", index=False)"
   ]
  },
  {
   "cell_type": "markdown",
   "metadata": {},
   "source": [
    "#### Detection"
   ]
  },
  {
   "cell_type": "code",
   "execution_count": 15,
   "metadata": {},
   "outputs": [],
   "source": [
    "actual = np.array([])\n",
    "predicted = np.array([])\n",
    "\n",
    "evalDF_runs = evalDF[evalDF[\"reruns\"] <= 2]\n",
    "\n",
    "for index, row in evalDF_runs.iterrows():\n",
    "\n",
    "    actual = np.append(actual, row[\"violation_actual\"])\n",
    "    predicted = np.append(predicted, row[\"violation_predicted\"])"
   ]
  },
  {
   "cell_type": "code",
   "execution_count": 16,
   "metadata": {},
   "outputs": [
    {
     "data": {
      "image/png": "[encoded data removed]",
      "text/plain": [
       "<Figure size 640x480 with 2 Axes>"
      ]
     },
     "metadata": {},
     "output_type": "display_data"
    }
   ],
   "source": [
    "accuracy = metrics.accuracy_score(actual, predicted)\n",
    "precision = metrics.precision_score(actual, predicted, pos_label=\"TRUE\")\n",
    "recall = metrics.recall_score(actual, predicted, pos_label=\"TRUE\")\n",
    "f05 = metrics.fbeta_score(actual, predicted, beta=0.5, pos_label=\"TRUE\")\n",
    "\n",
    "confusion_matrix = metrics.confusion_matrix(actual, predicted, labels=[\"TRUE\", \"FALSE\"])\n",
    "cm_display = metrics.ConfusionMatrixDisplay(confusion_matrix = confusion_matrix, display_labels = [\"TRUE\", \"FALSE\"])\n",
    "\n",
    "cm_display.plot()\n",
    "plt.show()\n",
    "\n",
    "## Oben Recjts = TP (Verstoß wird erkannt und liegt vor)\n",
    "## Unten Links = TN (Verstoß wird nicht erkannt und liegt nicht vor)\n",
    "## Oben Links = FN (Verstoß wird nicht erkannt obwohl einer vorliegt)\n",
    "## Unten Rechts = FP (Verstoß wird erkannt obwohl keiner vorliegt)"
   ]
  },
  {
   "cell_type": "code",
   "execution_count": 17,
   "metadata": {},
   "outputs": [
    {
     "name": "stdout",
     "output_type": "stream",
     "text": [
      "Accuracy: 0.9572649572649573\n",
      "Precision: 0.967948717948718\n",
      "Recall: 0.967948717948718\n",
      "F.5: 0.967948717948718\n"
     ]
    }
   ],
   "source": [
    "print(\"Accuracy: \" + str(accuracy))\n",
    "print(\"Precision: \" + str(precision))\n",
    "print(\"Recall: \" + str(recall))\n",
    "print(\"F.5: \" + str(f05))"
   ]
  },
  {
   "cell_type": "markdown",
   "metadata": {},
   "source": [
    "#### Correction"
   ]
  },
  {
   "cell_type": "code",
   "execution_count": 18,
   "metadata": {},
   "outputs": [],
   "source": [
    "def computeROUGE(reference, predicted):\n",
    "    rouge = Rouge()\n",
    "    scores = [rouge.get_scores(new, old) for old, new in zip(reference, predicted)]\n",
    "\n",
    "    total_scores = {\"rouge-1\": {\"f\": 0, \"p\": 0, \"r\": 0}, \"rouge-2\": {\"f\": 0, \"p\": 0, \"r\": 0}, \"rouge-l\": {\"f\": 0, \"p\": 0, \"r\": 0}}\n",
    "\n",
    "    for score in scores:\n",
    "        for key in total_scores.keys():\n",
    "            total_scores[key]['f'] += score[0][key]['f']\n",
    "            total_scores[key]['p'] += score[0][key]['p']\n",
    "            total_scores[key]['r'] += score[0][key]['r']\n",
    "\n",
    "    for key in total_scores.keys():\n",
    "        total_scores[key]['f'] /= len(scores)\n",
    "        total_scores[key]['p'] /= len(scores)\n",
    "        total_scores[key]['r'] /= len(scores)\n",
    "    \n",
    "    return total_scores  "
   ]
  },
  {
   "cell_type": "code",
   "execution_count": 19,
   "metadata": {},
   "outputs": [
    {
     "name": "stdout",
     "output_type": "stream",
     "text": [
      "Success rate: 0.9743589743589743\n"
     ]
    }
   ],
   "source": [
    "# correctedTickets = evalDF_runs[evalDF_runs[\"violation_actual\"] == \"TRUE\"]\n",
    "successRate = evalDF_runs[\"correction_in_range\"].value_counts(normalize=True)[\"TRUE\"]\n",
    "print(\"Success rate: \" + str(successRate))"
   ]
  },
  {
   "cell_type": "code",
   "execution_count": 20,
   "metadata": {},
   "outputs": [
    {
     "name": "stdout",
     "output_type": "stream",
     "text": [
      "Average ROUGE scores (Desc):\n",
      "{'rouge-1': {'f': 0.24519401641578062, 'p': 0.5632672882672883, 'r': 0.19816582895695792}, 'rouge-2': {'f': 0.08531707344896662, 'p': 0.21850071225071213, 'r': 0.07239635484330695}, 'rouge-l': {'f': 0.2144814686343232, 'p': 0.5004537129537131, 'r': 0.1727823015040019}}\n"
     ]
    }
   ],
   "source": [
    "reference = np.array([])\n",
    "new_summary = np.array([])\n",
    "\n",
    "for index, row in evalDF.iterrows():\n",
    "\n",
    "    if row[\"violation_actual\"] == \"TRUE\":\n",
    "        reference = np.append(reference, row[\"reference\"])\n",
    "        new_summary = np.append(new_summary, row[\"summary_new\"])\n",
    "\n",
    "print(\"Average ROUGE scores (Desc):\")\n",
    "total_scores = computeROUGE(reference, new_summary)\n",
    "print(total_scores)"
   ]
  },
  {
   "cell_type": "code",
   "execution_count": 21,
   "metadata": {},
   "outputs": [
    {
     "name": "stdout",
     "output_type": "stream",
     "text": [
      "Average ROUGE scores (Sum):\n",
      "{'rouge-1': {'f': 0.37072048652805434, 'p': 0.4087845025345026, 'r': 0.39244095471158463}, 'rouge-2': {'f': 0.14463960029332298, 'p': 0.166857448107448, 'r': 0.14938799337167996}, 'rouge-l': {'f': 0.34457977662852046, 'p': 0.38011895511895527, 'r': 0.36531630240310875}}\n"
     ]
    }
   ],
   "source": [
    "reference = np.array([])\n",
    "new_summary = np.array([])\n",
    "\n",
    "for index, row in evalDF.iterrows():\n",
    "\n",
    "    if row[\"violation_actual\"] == \"TRUE\":\n",
    "        reference = np.append(reference, row[\"summary_old\"])\n",
    "        new_summary = np.append(new_summary, row[\"summary_new\"])\n",
    "\n",
    "print(\"Average ROUGE scores (Sum):\")\n",
    "total_scores = computeROUGE(reference, new_summary)\n",
    "print(total_scores)"
   ]
  },
  {
   "cell_type": "markdown",
   "metadata": {},
   "source": [
    "# Update"
   ]
  },
  {
   "cell_type": "code",
   "execution_count": null,
   "metadata": {},
   "outputs": [],
   "source": [
    "directory = \"./evaluation/update/gpt-4-0125-preview/\""
   ]
  },
  {
   "cell_type": "code",
   "execution_count": null,
   "metadata": {},
   "outputs": [],
   "source": [
    "evalDF = pd.DataFrame(columns=[\"jira\", \"ticketId\", \"evolution\", \"reruns\", \"ticket_uri\", \"output_uri\", \"violation_actual\", \"violation_predicted\", \"change_actual\", \"change_predicted\", \"success\"])\n",
    "\n",
    "for file in os.listdir(directory):\n",
    "    filename = os.fsdecode(file)\n",
    "    outputUri = directory + filename\n",
    "\n",
    "    if not filename.endswith(\".json\"):\n",
    "        continue\n",
    "\n",
    "    with open(outputUri) as f:\n",
    "        result = json.load(f)\n",
    "\n",
    "    new_row = {\n",
    "        'jira': result[\"input_data\"][\"jira\"], \n",
    "        'ticketId': result[\"input_data\"][\"id\"], \n",
    "        'evolution': result[\"input_data\"][\"evolution\"],\n",
    "        'reruns': result[\"reruns\"],\n",
    "        'ticket_uri': result[\"input_data\"][\"ticket_uri\"],\n",
    "        'output_uri': outputUri, \n",
    "        'violation_actual': result[\"violation_actual\"], \n",
    "        'violation_predicted': result[\"output\"][\"violation_predicted\"],\n",
    "        'change_actual': result[\"reason\"],\n",
    "        'change_predicted': result[\"output\"][\"fields\"],\n",
    "        'success': None\n",
    "        }\n",
    "\n",
    "    evalDF.loc[len(evalDF)]=new_row    \n",
    "\n",
    "# Save data to csv\n",
    "evalDF.to_csv(directory + \"updateSummarys.csv\", index=False)"
   ]
  },
  {
   "cell_type": "markdown",
   "metadata": {},
   "source": [
    "#### Detection"
   ]
  },
  {
   "cell_type": "code",
   "execution_count": null,
   "metadata": {},
   "outputs": [],
   "source": [
    "actual = np.array([])\n",
    "predicted = np.array([])\n",
    "\n",
    "evalDF_runs = evalDF[evalDF[\"reruns\"] <= 1]\n",
    "\n",
    "for index, row in evalDF_runs.iterrows():\n",
    "\n",
    "    actual = np.append(actual, row[\"violation_actual\"])\n",
    "    predicted = np.append(predicted, row[\"violation_predicted\"])"
   ]
  },
  {
   "cell_type": "code",
   "execution_count": null,
   "metadata": {},
   "outputs": [],
   "source": [
    "accuracy = metrics.accuracy_score(actual, predicted)\n",
    "precision = metrics.precision_score(actual, predicted, pos_label=\"TRUE\")\n",
    "recall = metrics.recall_score(actual, predicted, pos_label=\"TRUE\")\n",
    "f05 = metrics.fbeta_score(actual, predicted, beta=0.5, pos_label=\"TRUE\")\n",
    "\n",
    "confusion_matrix = metrics.confusion_matrix(actual, predicted, labels=[\"TRUE\", \"FALSE\"])\n",
    "cm_display = metrics.ConfusionMatrixDisplay(confusion_matrix = confusion_matrix, display_labels = [\"TRUE\", \"FALSE\"])\n",
    "\n",
    "cm_display.plot()\n",
    "plt.show()"
   ]
  },
  {
   "cell_type": "code",
   "execution_count": null,
   "metadata": {},
   "outputs": [],
   "source": [
    "print(\"Accuracy: \" + str(accuracy))\n",
    "print(\"Precision: \" + str(precision))\n",
    "print(\"Recall: \" + str(recall))\n",
    "print(\"F05: \" + str(f05))"
   ]
  },
  {
   "cell_type": "markdown",
   "metadata": {},
   "source": [
    "#### Correction"
   ]
  },
  {
   "cell_type": "code",
   "execution_count": null,
   "metadata": {},
   "outputs": [],
   "source": [
    "evalDF = pd.read_csv(directory + \"updateSummarys_labeled.csv\")"
   ]
  },
  {
   "cell_type": "code",
   "execution_count": null,
   "metadata": {},
   "outputs": [],
   "source": [
    "successRate = evalDF[\"success\"].value_counts(normalize=True)[True]\n",
    "print(\"Success rate: \" + str(successRate))"
   ]
  },
  {
   "cell_type": "code",
   "execution_count": null,
   "metadata": {},
   "outputs": [],
   "source": []
  }
 ],
 "metadata": {
  "kernelspec": {
   "display_name": "venv_master",
   "language": "python",
   "name": "python3"
  },
  "language_info": {
   "codemirror_mode": {
    "name": "ipython",
    "version": 3
   },
   "file_extension": ".py",
   "mimetype": "text/x-python",
   "name": "python",
   "nbconvert_exporter": "python",
   "pygments_lexer": "ipython3",
   "version": "3.11.4"
  }
 },
 "nbformat": 4,
 "nbformat_minor": 2
}
