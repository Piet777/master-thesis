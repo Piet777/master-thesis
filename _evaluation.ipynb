{
 "cells": [
  {
   "cell_type": "markdown",
   "metadata": {},
   "source": [
    "# Evaluation"
   ]
  },
  {
   "cell_type": "code",
   "execution_count": 1,
   "metadata": {},
   "outputs": [],
   "source": [
    "import json\n",
    "import os\n",
    "\n",
    "import numpy as np\n",
    "import pandas as pd\n",
    "pd.set_option('display.max_colwidth', None)\n",
    "from sklearn import metrics\n",
    "import matplotlib.pyplot as plt"
   ]
  },
  {
   "cell_type": "markdown",
   "metadata": {},
   "source": [
    "## Summary Length"
   ]
  },
  {
   "cell_type": "code",
   "execution_count": 2,
   "metadata": {},
   "outputs": [],
   "source": [
    "directory = \"./evaluation/summary/gpt-4-0125-preview/\"\n",
    "\n",
    "evalDF = pd.DataFrame(columns=[\"jira\", \"ticketId\", \"evolution\", \"ticket_uri\", \"output_uri\", \"violation_actual\", \"violation_predicted\", \"summary_old\", \"length_old\", \"summary_new\", \"length_new\", \"correction_in_range\"])\n",
    "\n",
    "actual = np.array([])\n",
    "predicted = np.array([])\n",
    "\n",
    "for file in os.listdir(directory):\n",
    "    filename = os.fsdecode(file)\n",
    "    outputUri = directory + filename\n",
    "\n",
    "    if not filename.endswith(\".json\"):\n",
    "        continue\n",
    "\n",
    "    with open(outputUri) as f:\n",
    "        result = json.load(f)\n",
    "    \n",
    "    actual = np.append(actual, result[\"violation_actual\"])\n",
    "    predicted = np.append(predicted, result[\"output\"][\"violation_predicted\"])\n",
    "\n",
    "    if (len(result[\"output\"][\"summary_new\"]) <= 70) & (len(result[\"output\"][\"summary_new\"]) >= 39):\n",
    "        in_range = \"TRUE\"\n",
    "    else:\n",
    "        in_range = \"FALSE\"\n",
    "\n",
    "    new_row = {\n",
    "        'jira': result[\"input_data\"][\"jira\"], \n",
    "        'ticketId': result[\"input_data\"][\"id\"], \n",
    "        'evolution': result[\"input_data\"][\"evolution\"], \n",
    "        'ticket_uri': result[\"input_data\"][\"ticket_uri\"],\n",
    "        'output_uri': outputUri, \n",
    "        'violation_actual': result[\"violation_actual\"], \n",
    "        'violation_predicted': result[\"output\"][\"violation_predicted\"],\n",
    "        'summary_old': result[\"output\"][\"summary_old\"],\n",
    "        'length_old': len(result[\"output\"][\"summary_old\"]), \n",
    "        'summary_new': result[\"output\"][\"summary_new\"],\n",
    "        'length_new': len(result[\"output\"][\"summary_new\"]), \n",
    "        'correction_in_range': in_range\n",
    "        }\n",
    "\n",
    "    evalDF.loc[len(evalDF)]=new_row\n",
    "\n",
    "# Save data to csv\n",
    "evalDF.to_csv(directory + \"evaluatedSummarys.csv\", index=False)"
   ]
  },
  {
   "cell_type": "markdown",
   "metadata": {},
   "source": [
    "#### Detection"
   ]
  },
  {
   "cell_type": "code",
   "execution_count": 3,
   "metadata": {},
   "outputs": [
    {
     "data": {
      "image/png": "[encoded data removed]",
      "text/plain": [
       "<Figure size 640x480 with 2 Axes>"
      ]
     },
     "metadata": {},
     "output_type": "display_data"
    }
   ],
   "source": [
    "accuracy = metrics.accuracy_score(actual, predicted)\n",
    "precision = metrics.precision_score(actual, predicted, pos_label=\"FALSE\")\n",
    "recall = metrics.recall_score(actual, predicted, pos_label=\"TRUE\")\n",
    "f1 = metrics.f1_score(actual, predicted, pos_label=\"TRUE\")\n",
    "\n",
    "confusion_matrix = metrics.confusion_matrix(actual, predicted, labels=[\"TRUE\", \"FALSE\"])\n",
    "cm_display = metrics.ConfusionMatrixDisplay(confusion_matrix = confusion_matrix, display_labels = [\"TRUE\", \"FALSE\"])\n",
    "\n",
    "cm_display.plot()\n",
    "plt.show()"
   ]
  },
  {
   "cell_type": "code",
   "execution_count": 4,
   "metadata": {},
   "outputs": [
    {
     "name": "stdout",
     "output_type": "stream",
     "text": [
      "Accuracy: 0.8974358974358975\n",
      "Precision: 0.7647058823529411\n",
      "Recall: 0.8461538461538461\n",
      "F1: 0.9166666666666666\n"
     ]
    }
   ],
   "source": [
    "print(\"Accuracy: \" + str(accuracy))\n",
    "print(\"Precision: \" + str(precision))\n",
    "print(\"Recall: \" + str(recall))\n",
    "print(\"F1: \" + str(f1))\n"
   ]
  },
  {
   "cell_type": "markdown",
   "metadata": {},
   "source": [
    "#### Correction"
   ]
  },
  {
   "cell_type": "code",
   "execution_count": 5,
   "metadata": {},
   "outputs": [],
   "source": [
    "successRate = evalDF[\"correction_in_range\"].value_counts(normalize=True)[\"TRUE\"]"
   ]
  },
  {
   "cell_type": "code",
   "execution_count": 6,
   "metadata": {},
   "outputs": [
    {
     "name": "stdout",
     "output_type": "stream",
     "text": [
      "Success rate: 0.9871794871794872\n"
     ]
    }
   ],
   "source": [
    "print(\"Success rate: \" + str(successRate))"
   ]
  },
  {
   "cell_type": "markdown",
   "metadata": {},
   "source": [
    "# Update"
   ]
  },
  {
   "cell_type": "code",
   "execution_count": 7,
   "metadata": {},
   "outputs": [],
   "source": [
    "directory = \"./evaluation/update/gpt-4-0125-preview/\""
   ]
  },
  {
   "cell_type": "code",
   "execution_count": 8,
   "metadata": {},
   "outputs": [],
   "source": [
    "evalDF = pd.DataFrame(columns=[\"jira\", \"ticketId\", \"evolution\", \"reruns\", \"ticket_uri\", \"output_uri\", \"violation_actual\", \"violation_predicted\", \"change_actual\", \"change_predicted\", \"all_detected\"])\n",
    "\n",
    "actual = np.array([])\n",
    "predicted = np.array([])\n",
    "\n",
    "for file in os.listdir(directory):\n",
    "    filename = os.fsdecode(file)\n",
    "    outputUri = directory + filename\n",
    "\n",
    "    if not filename.endswith(\".json\"):\n",
    "        continue\n",
    "\n",
    "    with open(outputUri) as f:\n",
    "        result = json.load(f)\n",
    "\n",
    "    actual = np.append(actual, result[\"violation_actual\"])\n",
    "    predicted = np.append(predicted, result[\"output\"][\"violation_predicted\"])\n",
    "\n",
    "    new_row = {\n",
    "        'jira': result[\"input_data\"][\"jira\"], \n",
    "        'ticketId': result[\"input_data\"][\"id\"], \n",
    "        'evolution': result[\"input_data\"][\"evolution\"],\n",
    "        'reruns': result[\"reruns\"],\n",
    "        'ticket_uri': result[\"input_data\"][\"ticket_uri\"],\n",
    "        'output_uri': outputUri, \n",
    "        'violation_actual': result[\"violation_actual\"], \n",
    "        'violation_predicted': result[\"output\"][\"violation_predicted\"],\n",
    "        'change_actual': result[\"reason\"],\n",
    "        'change_predicted': result[\"output\"][\"fields\"],\n",
    "        'all_detected': None\n",
    "        }\n",
    "\n",
    "    evalDF.loc[len(evalDF)]=new_row    \n",
    "\n",
    "# Save data to csv\n",
    "evalDF.to_csv(directory + \"updateSummarys.csv\", index=False)"
   ]
  },
  {
   "cell_type": "markdown",
   "metadata": {},
   "source": [
    "#### Detection"
   ]
  },
  {
   "cell_type": "code",
   "execution_count": 11,
   "metadata": {},
   "outputs": [
    {
     "data": {
      "image/png": "[encoded data removed]",
      "text/plain": [
       "<Figure size 640x480 with 2 Axes>"
      ]
     },
     "metadata": {},
     "output_type": "display_data"
    }
   ],
   "source": [
    "accuracy = metrics.accuracy_score(actual, predicted)\n",
    "\n",
    "confusion_matrix = metrics.confusion_matrix(actual, predicted, labels=[\"TRUE\", \"FALSE\"])\n",
    "cm_display = metrics.ConfusionMatrixDisplay(confusion_matrix = confusion_matrix, display_labels = [\"TRUE\", \"FALSE\"])\n",
    "\n",
    "cm_display.plot()\n",
    "plt.show()"
   ]
  },
  {
   "cell_type": "code",
   "execution_count": 12,
   "metadata": {},
   "outputs": [
    {
     "name": "stdout",
     "output_type": "stream",
     "text": [
      "Accuracy: 0.9642857142857143\n"
     ]
    }
   ],
   "source": [
    "print(\"Accuracy: \" + str(accuracy))"
   ]
  },
  {
   "cell_type": "code",
   "execution_count": null,
   "metadata": {},
   "outputs": [],
   "source": []
  }
 ],
 "metadata": {
  "kernelspec": {
   "display_name": "venv_master",
   "language": "python",
   "name": "python3"
  },
  "language_info": {
   "codemirror_mode": {
    "name": "ipython",
    "version": 3
   },
   "file_extension": ".py",
   "mimetype": "text/x-python",
   "name": "python",
   "nbconvert_exporter": "python",
   "pygments_lexer": "ipython3",
   "version": "3.11.4"
  }
 },
 "nbformat": 4,
 "nbformat_minor": 2
}
